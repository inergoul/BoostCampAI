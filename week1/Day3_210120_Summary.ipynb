{
 "cells": [
  {
   "cell_type": "markdown",
   "id": "stable-moldova",
   "metadata": {},
   "source": [
    "#### Lecture1. Python datastructure"
   ]
  },
  {
   "cell_type": "markdown",
   "id": "charitable-neutral",
   "metadata": {},
   "source": [
    "Stack with list\n",
    "- 나중에 넣은 데이터를 먼저 반환하도록 설계된 메모리 구조\n",
    "- Last In First Out(LIFO) / 입력(push) : append(), 출력(pop) : pop()\n",
    "\n",
    "Queue\n",
    "- 먼저 넣은 데이터를 먼저 반환하도록 설계된 메모리 구조\n",
    "- First In First Oul(FIFO) / 입력 : append(), 출력 : pop(0)"
   ]
  },
  {
   "cell_type": "code",
   "execution_count": 1,
   "id": "bridal-saver",
   "metadata": {},
   "outputs": [
    {
     "name": "stdout",
     "output_type": "stream",
     "text": [
      "input a word :naver\n",
      "r\n",
      "e\n",
      "v\n",
      "a\n",
      "n\n"
     ]
    }
   ],
   "source": [
    "word = input(\"input a word :\")\n",
    "word_list = list(word)\n",
    "for i in range(len(word_list)):\n",
    "    print(word_list.pop()) # stack"
   ]
  },
  {
   "cell_type": "code",
   "execution_count": 2,
   "id": "central-pharmacology",
   "metadata": {},
   "outputs": [
    {
     "name": "stdout",
     "output_type": "stream",
     "text": [
      "input a word :naver\n",
      "n\n",
      "a\n",
      "v\n",
      "e\n",
      "r\n"
     ]
    }
   ],
   "source": [
    "word = input(\"input a word :\")\n",
    "word_list = list(word)\n",
    "for i in range(len(word_list)):\n",
    "    print(word_list.pop(0)) # pop"
   ]
  },
  {
   "cell_type": "markdown",
   "id": "damaged-serve",
   "metadata": {},
   "source": [
    "튜플\n",
    "- 값의 변경이 불가능한 리스트\n",
    "- 수학의 집합 연산 가능 ( union, intersection, difference)\n",
    "\n",
    "집합\n",
    "- 값을 순서 없이 저장, 중복 불허"
   ]
  },
  {
   "cell_type": "markdown",
   "id": "hungarian-framing",
   "metadata": {},
   "source": [
    "Dictionary\n",
    "- 데이터 고유 값 identifier / key 값을 활용하여 데이터 값(value) 관리\n"
   ]
  },
  {
   "cell_type": "code",
   "execution_count": 7,
   "id": "funny-jacket",
   "metadata": {},
   "outputs": [
    {
     "name": "stdout",
     "output_type": "stream",
     "text": [
      "[['bookworm', 8500], ['elsa', 7500], ['fillmore', 7394], ['francis', 5978], ['anton_ego', 5819], ['queen_grimhilde', 5000], ['kristoff', 4934], ['brent_mustangburger', 4838], ['emperor_zurg', 4470], ['tarzan', 4193]]\n"
     ]
    }
   ],
   "source": [
    "import csv\n",
    "\n",
    "def getKey(item):\n",
    "    return item[1]\n",
    "\n",
    "command_data = []\n",
    "with open(\"command_data.csv\", \"r\", encoding=\"utf8\") as csvfile:\n",
    "    spamreader = csv.reader(csvfile, delimiter=',', quotechar='\"')\n",
    "    for row in spamreader:\n",
    "        command_data.append(row)\n",
    "\n",
    "command_counter = dict()\n",
    "for data in command_data:\n",
    "    if data[1] in command_counter.keys():\n",
    "        command_counter[data[1]] += 1\n",
    "    else:\n",
    "        command_counter[data[1]] = 1\n",
    "\n",
    "dictlist = []\n",
    "for key, value in command_counter.items():\n",
    "    temp = [key, value]\n",
    "    dictlist.append(temp)\n",
    "    \n",
    "sorted_dict = sorted(dictlist, key=getKey, reverse=True)\n",
    "print(sorted_dict[:10])"
   ]
  },
  {
   "cell_type": "markdown",
   "id": "drawn-recruitment",
   "metadata": {},
   "source": [
    "Collections\n",
    "- list, tuple,dict 에 대한 python built-in 확장 자료구조(모듈)\n",
    "- deque : Stack / Queue / Linked List\n",
    "    - appendleft(), expendleft(), rotate()"
   ]
  },
  {
   "cell_type": "code",
   "execution_count": 9,
   "id": "emotional-single",
   "metadata": {},
   "outputs": [
    {
     "name": "stdout",
     "output_type": "stream",
     "text": [
      "11.9 ms ± 2.12 ms per loop (mean ± std. dev. of 7 runs, 100 loops each)\n"
     ]
    }
   ],
   "source": [
    "def general_list():\n",
    "    just_list = []\n",
    "    for _ in range(100):\n",
    "        for i in range(100):\n",
    "            just_list.append(i)\n",
    "            just_list.pop()\n",
    "%timeit general_list()  # %timeit : jupyter의 매직 명령어(시간 측정)"
   ]
  },
  {
   "cell_type": "code",
   "execution_count": 11,
   "id": "personalized-trademark",
   "metadata": {},
   "outputs": [
    {
     "name": "stdout",
     "output_type": "stream",
     "text": [
      "3.85 ms ± 1.12 ms per loop (mean ± std. dev. of 7 runs, 100 loops each)\n"
     ]
    }
   ],
   "source": [
    "from collections import deque\n",
    "def deque_list():\n",
    "    deque_list = deque()\n",
    "    for _ in range(100):\n",
    "        for i in range(100):\n",
    "            deque_list.append(i)\n",
    "            deque_list.pop()\n",
    "%timeit deque_list()"
   ]
  },
  {
   "cell_type": "markdown",
   "id": "activated-mercy",
   "metadata": {},
   "source": [
    "OrderedDict\n",
    "- 데이터를 입력한 순서를 보장하는 dictionary, 3.6이상 버전부터는 그냥 Dict도 무관\n",
    "\n",
    "DefaultDict\n",
    "- Dict type의 값에 기본 값을 지정, 신규값 생성시 사용하는 방법\n",
    "- Text-mining 접근법 : Vector Space Model"
   ]
  },
  {
   "cell_type": "code",
   "execution_count": 14,
   "id": "vulnerable-young",
   "metadata": {},
   "outputs": [
    {
     "data": {
      "text/plain": [
       "0"
      ]
     },
     "execution_count": 14,
     "metadata": {},
     "output_type": "execute_result"
    }
   ],
   "source": [
    "from collections import defaultdict\n",
    "d = defaultdict(lambda : 0)\n",
    "d[\"first\"]"
   ]
  },
  {
   "cell_type": "markdown",
   "id": "permanent-ancient",
   "metadata": {},
   "source": [
    "Counter : sequence type 의 각각의 data element 요소 반환 (set 연산 지원)"
   ]
  },
  {
   "cell_type": "code",
   "execution_count": 17,
   "id": "dependent-coaching",
   "metadata": {
    "scrolled": true
   },
   "outputs": [
    {
     "name": "stdout",
     "output_type": "stream",
     "text": [
      "Counter({'B': 3, 'S': 2})\n",
      "['cats', 'cats', 'cats', 'cats', 'dogs', 'dogs', 'dogs', 'dogs', 'dogs', 'dogs', 'dogs', 'dogs', 'dogs']\n"
     ]
    }
   ],
   "source": [
    "from collections import Counter\n",
    "bs_list = [\"B\", \"S\", \"S\", \"B\", \"B\"]\n",
    "print(Counter(bs_list))\n",
    "c = Counter(cats=4, dogs=9)\n",
    "print(list(c.elements()))"
   ]
  },
  {
   "cell_type": "markdown",
   "id": "arabic-scotland",
   "metadata": {},
   "source": [
    "namedtuple : tuple 형태로 data 구조체를 저장, "
   ]
  },
  {
   "cell_type": "code",
   "execution_count": 18,
   "id": "postal-praise",
   "metadata": {},
   "outputs": [
    {
     "data": {
      "text/plain": [
       "(11, 22)"
      ]
     },
     "execution_count": 18,
     "metadata": {},
     "output_type": "execute_result"
    }
   ],
   "source": [
    "from collections import namedtuple\n",
    "point = namedtuple('Point', ['x', 'y'])\n",
    "p = point(11, y=22)\n",
    "p[0], p[1]"
   ]
  },
  {
   "cell_type": "markdown",
   "id": "ultimate-pharmacology",
   "metadata": {},
   "source": [
    "#### Lecture 2. Pythonic Code"
   ]
  },
  {
   "cell_type": "markdown",
   "id": "reverse-problem",
   "metadata": {},
   "source": [
    "파이썬 스타일의 코딩 기법\n",
    "- 타인의 코드에 대한 이해도\n",
    "- 효율적 (속도, 가독성)\n",
    "\n",
    "split & join\n",
    "- split : string type의 값을 기준값으로 나눠서 list 형태로 반환\n",
    "- join : list 형태의 값을 string으로 합침\n",
    "\n",
    "List comprehension\n",
    "- 기존 list를 사용하여 간단히 다른 list를 만드는 기법\n",
    "- for + append 보다 속도가 빠름"
   ]
  },
  {
   "cell_type": "code",
   "execution_count": 22,
   "id": "integrated-treasure",
   "metadata": {},
   "outputs": [
    {
     "name": "stdout",
     "output_type": "stream",
     "text": [
      "3.02 ms ± 737 µs per loop (mean ± std. dev. of 7 runs, 100 loops each)\n"
     ]
    }
   ],
   "source": [
    "result = []\n",
    "def for_append():\n",
    "    for i in range(10000):\n",
    "#         if i % 2 == 0:\n",
    "        result.append(i)\n",
    "%timeit for_append()"
   ]
  },
  {
   "cell_type": "code",
   "execution_count": 23,
   "id": "floral-hybrid",
   "metadata": {},
   "outputs": [
    {
     "name": "stdout",
     "output_type": "stream",
     "text": [
      "987 µs ± 101 µs per loop (mean ± std. dev. of 7 runs, 1000 loops each)\n"
     ]
    }
   ],
   "source": [
    "result = []\n",
    "def list_comp():\n",
    "    result = [i for i in range(10000)]\n",
    "%timeit list_comp()"
   ]
  },
  {
   "cell_type": "code",
   "execution_count": 30,
   "id": "compact-theater",
   "metadata": {
    "scrolled": true
   },
   "outputs": [
    {
     "name": "stdout",
     "output_type": "stream",
     "text": [
      "['AD', 'AE', 'AA', 'BD', 'BE', 'BA', 'CD', 'CE', 'CA']\n",
      "['AD', 'AE', 'BD', 'BE', 'BA', 'CD', 'CE', 'CA']\n",
      "['AD', 'AE', 'BEE', 'BD', 'BE', 'BA', 'CD', 'CE', 'CA']\n",
      "[['AD', 'BD', 'CD'], ['AE', 'BE', 'CE'], ['AA', 'BA', 'CA']]\n"
     ]
    }
   ],
   "source": [
    "case_1 = ['A', 'B', 'C']\n",
    "case_2 = ['D', 'E', 'A']\n",
    "print([i+j for i in case_1 for j in case_2])\n",
    "print([i+j for i in case_1 for j in case_2 if not(i == j)])\n",
    "print([i+j if not(i == j) else 'BEE' for i in case_1 for j in case_2 ])\n",
    "print([[i+j for i in case_1] for j in case_2])"
   ]
  },
  {
   "cell_type": "code",
   "execution_count": 28,
   "id": "about-karma",
   "metadata": {
    "scrolled": true
   },
   "outputs": [
    {
     "data": {
      "text/plain": [
       "[['THE', 'the', 3],\n",
       " ['QUICK', 'quick', 5],\n",
       " ['BROWN', 'brown', 5],\n",
       " ['FOX', 'fox', 3],\n",
       " ['JUMPS', 'jumps', 5],\n",
       " ['OVER', 'over', 4],\n",
       " ['THE', 'the', 3],\n",
       " ['LAZY', 'lazy', 4],\n",
       " ['DOG', 'dog', 3]]"
      ]
     },
     "execution_count": 28,
     "metadata": {},
     "output_type": "execute_result"
    }
   ],
   "source": [
    "words = 'The quick brown fox jumps over the lazy dog'.split()\n",
    "stuff = [[w.upper(), w.lower(), len(w)] for w in words]\n",
    "stuff"
   ]
  },
  {
   "cell_type": "markdown",
   "id": "bottom-champagne",
   "metadata": {},
   "source": [
    "Enumerate : list의 element를 index 와 함께 추출"
   ]
  },
  {
   "cell_type": "code",
   "execution_count": 33,
   "id": "loved-evolution",
   "metadata": {},
   "outputs": [
    {
     "data": {
      "text/plain": [
       "{0: 'in',\n",
       " 1: 'korean',\n",
       " 2: 'south',\n",
       " 3: 'samsung',\n",
       " 4: 'a',\n",
       " 5: 'multinational',\n",
       " 6: 'is',\n",
       " 7: 'headquartered',\n",
       " 8: 'group',\n",
       " 9: 'conglomerate'}"
      ]
     },
     "execution_count": 33,
     "metadata": {},
     "output_type": "execute_result"
    }
   ],
   "source": [
    "text = \"Samsung Group is a South Korean multinational conglomerate headquartered in Samsung\"\n",
    "set_text = list(set(text.split())) # 중복 제거 기법\n",
    "{i : v.lower() for i, v in enumerate(set_text)}"
   ]
  },
  {
   "cell_type": "markdown",
   "id": "matched-facial",
   "metadata": {},
   "source": [
    "Zip : 두 개의 list의 값을 병렬적으로 추출"
   ]
  },
  {
   "cell_type": "code",
   "execution_count": 34,
   "id": "motivated-supply",
   "metadata": {},
   "outputs": [
    {
     "data": {
      "text/plain": [
       "[90.0, 85.0, 78.33333333333333]"
      ]
     },
     "execution_count": 34,
     "metadata": {},
     "output_type": "execute_result"
    }
   ],
   "source": [
    "math = (100, 80, 90)\n",
    "kor = (90, 90, 70)\n",
    "eng = (80, 85, 75)\n",
    "[sum(value) / 3 for value in zip(math, kor, eng)]"
   ]
  },
  {
   "cell_type": "code",
   "execution_count": 35,
   "id": "smart-creation",
   "metadata": {},
   "outputs": [
    {
     "data": {
      "text/plain": [
       "[(0, ('a1', 'b1')), (1, ('a2', 'b2')), (2, ('a3', 'b3'))]"
      ]
     },
     "execution_count": 35,
     "metadata": {},
     "output_type": "execute_result"
    }
   ],
   "source": [
    "# enumerate & zip\n",
    "alist = ['a1', 'a2', 'a3']\n",
    "blist = ['b1', 'b2', 'b3']\n",
    "list(enumerate(zip(alist, blist)))"
   ]
  },
  {
   "cell_type": "markdown",
   "id": "chemical-roommate",
   "metadata": {},
   "source": [
    "Lambda : 함수 이름없이, 함수처럼 쓸수 있는 익명함수\n",
    "- 어려운 문법, 테스트의 어려움, docstring 지원 미비, 코드 해석 어려움\n",
    "- 그러나 많이 사용(disposable code)"
   ]
  },
  {
   "cell_type": "code",
   "execution_count": 39,
   "id": "decent-miami",
   "metadata": {},
   "outputs": [
    {
     "name": "stdout",
     "output_type": "stream",
     "text": [
      "50\n"
     ]
    },
    {
     "data": {
      "text/plain": [
       "30"
      ]
     },
     "execution_count": 39,
     "metadata": {},
     "output_type": "execute_result"
    }
   ],
   "source": [
    "f = (lambda x, y : x + y)\n",
    "print(f(20, 30))\n",
    "(lambda x, y : x + y)(10, 20)"
   ]
  },
  {
   "cell_type": "markdown",
   "id": "descending-screen",
   "metadata": {},
   "source": [
    "Map : mapping, 실행 시점의 값을 생성, 메모리 효율적"
   ]
  },
  {
   "cell_type": "code",
   "execution_count": 44,
   "id": "norwegian-template",
   "metadata": {},
   "outputs": [
    {
     "name": "stdout",
     "output_type": "stream",
     "text": [
      "[5, 6, 7, 8, 9]\n",
      "[1, 4, 9, 16, 25]\n",
      "[2, 4, 6, 8, 10]\n"
     ]
    }
   ],
   "source": [
    "def f(x):\n",
    "    return x + 4\n",
    "g = lambda x:x**2\n",
    "h = lambda x,y : x+y\n",
    "ex = [1,2,3,4,5]\n",
    "print(list(map(f, ex))) # 그냥 map은 generator 객체\n",
    "print(list(map(g, ex)))\n",
    "print(list(map(h, ex, ex)))"
   ]
  },
  {
   "cell_type": "code",
   "execution_count": 45,
   "id": "engaging-clerk",
   "metadata": {},
   "outputs": [
    {
     "name": "stdout",
     "output_type": "stream",
     "text": [
      "[5, 6, 7, 8, 9]\n",
      "[1, 4, 9, 16, 25]\n"
     ]
    }
   ],
   "source": [
    "print([f(value) for value in ex])\n",
    "print([g(value) for value in ex])"
   ]
  },
  {
   "cell_type": "markdown",
   "id": "hybrid-procedure",
   "metadata": {},
   "source": [
    "Reduce : map function과 달리 list에 똑같은 함수를 적용해서 통합(대용량 데이터)"
   ]
  },
  {
   "cell_type": "code",
   "execution_count": 46,
   "id": "strange-muslim",
   "metadata": {},
   "outputs": [
    {
     "name": "stdout",
     "output_type": "stream",
     "text": [
      "15\n"
     ]
    }
   ],
   "source": [
    "from functools import reduce\n",
    "print(reduce(lambda x, y: x+y, [1,2,3,4,5]))"
   ]
  },
  {
   "cell_type": "markdown",
   "id": "allied-messenger",
   "metadata": {},
   "source": [
    "Iterable Object : sequence 자료형에서 데이터를 순서대로 추출"
   ]
  },
  {
   "cell_type": "code",
   "execution_count": 48,
   "id": "experienced-congo",
   "metadata": {},
   "outputs": [
    {
     "data": {
      "text/plain": [
       "<list_iterator at 0x16f26778970>"
      ]
     },
     "execution_count": 48,
     "metadata": {},
     "output_type": "execute_result"
    }
   ],
   "source": [
    "cities = ['Seoul', 'Busan', 'Jeju']\n",
    "memory_address = iter(cities)\n",
    "memory_address"
   ]
  },
  {
   "cell_type": "code",
   "execution_count": 49,
   "id": "connected-default",
   "metadata": {},
   "outputs": [
    {
     "data": {
      "text/plain": [
       "'Seoul'"
      ]
     },
     "execution_count": 49,
     "metadata": {},
     "output_type": "execute_result"
    }
   ],
   "source": [
    "next(memory_address)"
   ]
  },
  {
   "cell_type": "code",
   "execution_count": 50,
   "id": "arranged-christopher",
   "metadata": {},
   "outputs": [
    {
     "data": {
      "text/plain": [
       "'Busan'"
      ]
     },
     "execution_count": 50,
     "metadata": {},
     "output_type": "execute_result"
    }
   ],
   "source": [
    "next(memory_address)"
   ]
  },
  {
   "cell_type": "markdown",
   "id": "handed-lucas",
   "metadata": {},
   "source": [
    "generator\n",
    "- iterable object 를 특수한 형태로 사용해주는 함수\n",
    "- element가 사용되는 시점 값을 메모리에 반환(yield 사용 > 하나의 element 반환)\n",
    "- 메모리에 모든 객체를 다 올리는 것보다 하나씩만 올리므로 메모리 적게 사용"
   ]
  },
  {
   "cell_type": "code",
   "execution_count": 2,
   "id": "consistent-steering",
   "metadata": {},
   "outputs": [
    {
     "name": "stdout",
     "output_type": "stream",
     "text": [
      "[0, 1, 2, 3, 4, 5, 6, 7, 8, 9, 10, 11, 12, 13, 14, 15, 16, 17, 18, 19, 20, 21, 22, 23, 24, 25, 26, 27, 28, 29, 30, 31, 32, 33, 34, 35, 36, 37, 38, 39, 40, 41, 42, 43, 44, 45, 46, 47, 48, 49]\n"
     ]
    }
   ],
   "source": [
    "def general_list(value):\n",
    "    result = []\n",
    "    for i in range(value):\n",
    "        result.append(i)\n",
    "    return result\n",
    "print(general_list(50))"
   ]
  },
  {
   "cell_type": "code",
   "execution_count": 3,
   "id": "ideal-desire",
   "metadata": {},
   "outputs": [
    {
     "data": {
      "text/plain": [
       "520"
      ]
     },
     "execution_count": 3,
     "metadata": {},
     "output_type": "execute_result"
    }
   ],
   "source": [
    "import sys\n",
    "result = general_list(50)\n",
    "sys.getsizeof(result) # 바이트 수 반환"
   ]
  },
  {
   "cell_type": "code",
   "execution_count": 1,
   "id": "split-queens",
   "metadata": {},
   "outputs": [],
   "source": [
    "def generator_list(value):\n",
    "    result = []\n",
    "    for i in range(value):\n",
    "        yield i"
   ]
  },
  {
   "cell_type": "code",
   "execution_count": 5,
   "id": "bottom-background",
   "metadata": {
    "scrolled": true
   },
   "outputs": [
    {
     "name": "stdout",
     "output_type": "stream",
     "text": [
      "112\n",
      "464\n"
     ]
    },
    {
     "data": {
      "text/plain": [
       "<generator object generator_list at 0x000002917ACA27B0>"
      ]
     },
     "execution_count": 5,
     "metadata": {},
     "output_type": "execute_result"
    }
   ],
   "source": [
    "# for a in generator_list(50):\n",
    "#     print(a)\n",
    "import sys\n",
    "print(sys.getsizeof(generator_list(50)))\n",
    "print(sys.getsizeof(list(generator_list(50))))"
   ]
  },
  {
   "cell_type": "markdown",
   "id": "incoming-release",
   "metadata": {},
   "source": [
    "generator comprehension(generator expression)\n",
    "- generator 형태의 list 생성, () 사용"
   ]
  },
  {
   "cell_type": "code",
   "execution_count": 15,
   "id": "driven-kelly",
   "metadata": {},
   "outputs": [
    {
     "name": "stdout",
     "output_type": "stream",
     "text": [
      "<class 'generator'>\n",
      "112\n",
      "4264\n"
     ]
    }
   ],
   "source": [
    "gen_ex = (n*n for n in range(500))\n",
    "print(type(gen_ex))\n",
    "print(sys.getsizeof(gen_ex))\n",
    "list_ex = [n*n for n in range(500)]\n",
    "print(sys.getsizeof(list_ex))"
   ]
  },
  {
   "cell_type": "markdown",
   "id": "exceptional-tutorial",
   "metadata": {},
   "source": [
    "Generator를 사용해야 할 때\n",
    "- list타입의 데이터를 반환해주는 함수(읽기 쉬움, loop 중단될 때도 가능)\n",
    "- 대용량의 데이터 처리할 때\n",
    "- 파일 데이터를 처리할 때"
   ]
  },
  {
   "cell_type": "markdown",
   "id": "considerable-shift",
   "metadata": {},
   "source": [
    "함수 Argument 형태\n",
    "- Keyword arguments : 함수에 입력되는 parameter 변수명을 사용, argument 전달\n",
    "- Default arguments : parameter의 기본 값을 사용, 입력하지 않으면 기본값 출력"
   ]
  },
  {
   "cell_type": "code",
   "execution_count": 17,
   "id": "nonprofit-chancellor",
   "metadata": {},
   "outputs": [
    {
     "name": "stdout",
     "output_type": "stream",
     "text": [
      "Hello Teamlab, My name is Jin\n",
      "Hello Teamlab, My name is Ubi\n"
     ]
    }
   ],
   "source": [
    "def print_something(my_name, your_name, third_name):\n",
    "    print(\"Hello {0}, My name is {1}\".format(your_name, my_name))\n",
    "def print_something_2(my_name, your_name=\"Teamlab\"):\n",
    "    print(\"Hello {0}, My name is {1}\".format(your_name, my_name))\n",
    "print_something(third_name=\"abc\", my_name=\"Jin\", your_name=\"Teamlab\")\n",
    "print_something_2(\"Ubi\")"
   ]
  },
  {
   "cell_type": "markdown",
   "id": "female-filter",
   "metadata": {},
   "source": [
    "Variable argument asterisk\n",
    "- 개수가 정해지지 않은 변수를 함수의 parameter로 사용\n",
    "- 입력된 값은 tuple type으로 사용"
   ]
  },
  {
   "cell_type": "code",
   "execution_count": 18,
   "id": "welcome-gateway",
   "metadata": {},
   "outputs": [
    {
     "name": "stdout",
     "output_type": "stream",
     "text": [
      "[3, 4, 5]\n",
      "<class 'tuple'>\n"
     ]
    },
    {
     "data": {
      "text/plain": [
       "15"
      ]
     },
     "execution_count": 18,
     "metadata": {},
     "output_type": "execute_result"
    }
   ],
   "source": [
    "def asterisk_test(a, b, *args):\n",
    "    print(list(args))\n",
    "    print(type(args))\n",
    "    return a+b+sum(args)\n",
    "asterisk_test(1,2,3,4,5)"
   ]
  },
  {
   "cell_type": "markdown",
   "id": "lesbian-occurrence",
   "metadata": {},
   "source": [
    "키워드 가변인자(keyword variable-length)\n",
    "- parameter 이름을 따로 지정하지 않고 입력하는 방법\n",
    "- asterisk(\\*) 두개를 사용하여 함수의 parameter 표시\n",
    "- 입력된 값은 dict type 으로 사용"
   ]
  },
  {
   "cell_type": "code",
   "execution_count": 19,
   "id": "generic-speaker",
   "metadata": {},
   "outputs": [
    {
     "name": "stdout",
     "output_type": "stream",
     "text": [
      "{'first': 3, 'secont': 5, 'third': 7}\n",
      "<class 'dict'>\n"
     ]
    }
   ],
   "source": [
    "def kwargs_test_1(**kwargs):\n",
    "    print(kwargs)\n",
    "    print(type(kwargs))\n",
    "kwargs_test_1(first=3, secont=5, third=7)"
   ]
  },
  {
   "cell_type": "code",
   "execution_count": 26,
   "id": "promotional-manitoba",
   "metadata": {},
   "outputs": [
    {
     "name": "stdout",
     "output_type": "stream",
     "text": [
      "39\n",
      "(5, 6, 6, 7, 8)\n",
      "{'first': 3, 'second': 4}\n"
     ]
    }
   ],
   "source": [
    "def kwargs_test_2(one, two=10, *args, **kwargs): # arg, kwarg, v-arg, v-kwarg\n",
    "    print(one+two+sum(args))\n",
    "    print(args)\n",
    "    print((kwargs))\n",
    "kwargs_test_2(3,4,5,6,6,7,8, first=3, second=4)"
   ]
  },
  {
   "cell_type": "markdown",
   "id": "static-senior",
   "metadata": {},
   "source": [
    "asterisk - unpacking container"
   ]
  },
  {
   "cell_type": "code",
   "execution_count": 29,
   "id": "latest-chance",
   "metadata": {},
   "outputs": [
    {
     "name": "stdout",
     "output_type": "stream",
     "text": [
      "1 (2, 3, 4, 5, 6)\n",
      "<class 'tuple'>\n",
      "1 2 3 4 5 6\n",
      "<class 'tuple'>\n"
     ]
    }
   ],
   "source": [
    "def asterisk_test(a, *args):\n",
    "#     print(a, *args)\n",
    "    print(a, *args)\n",
    "    print(type(args))\n",
    "t1 = (2,3,4,5,6)\n",
    "asterisk_test(1, t1)\n",
    "asterisk_test(1, *t1)"
   ]
  },
  {
   "cell_type": "code",
   "execution_count": 30,
   "id": "focal-fisher",
   "metadata": {
    "scrolled": true
   },
   "outputs": [
    {
     "name": "stdout",
     "output_type": "stream",
     "text": [
      "(1, 3, 5, 7)\n",
      "(2, 4, 6, 8)\n"
     ]
    }
   ],
   "source": [
    "ex = ([1,2],[3,4],[5,6],[7,8])\n",
    "for value in zip(*ex):\n",
    "    print(value)"
   ]
  },
  {
   "cell_type": "markdown",
   "id": "nuclear-respect",
   "metadata": {},
   "source": [
    "#### 피어 세션\n",
    "\n",
    "1. 제너레이터와 이터레이터의 차이\n",
    "- \\[x for x in range(50)\\] 보다 (x for x in range(50) 가 메모리를 작게 차지하는 이유\n",
    "- yield 구문의 의미\n",
    "2. baseball code review\n",
    "3. 유용한 자료\n",
    "- 모두를 위한 딥러닝 : https://thebook.io/080228/\n",
    "- 머신러닝을 위한 수학 모음 : https://mml-book.github.io/book/mml-book.pdf\n",
    "- 수학 요약 번역집 http://savanna.korea.ac.kr/wp/?page_id=1228\n",
    "- 알고리즘 질문 모음 : https://www.testdome.com/d/python-interview-questions/9 - \n",
    "- 파이썬 메모리 시각화 사이트 : http://pythontutor.com/\n",
    "4. 과제\n",
    "- 코딩테스트 문제 : https://programmers.co.kr/learn/courses/30/lessons/42583"
   ]
  }
 ],
 "metadata": {
  "kernelspec": {
   "display_name": "Python 3",
   "language": "python",
   "name": "python3"
  },
  "language_info": {
   "codemirror_mode": {
    "name": "ipython",
    "version": 3
   },
   "file_extension": ".py",
   "mimetype": "text/x-python",
   "name": "python",
   "nbconvert_exporter": "python",
   "pygments_lexer": "ipython3",
   "version": "3.8.5"
  }
 },
 "nbformat": 4,
 "nbformat_minor": 5
}
