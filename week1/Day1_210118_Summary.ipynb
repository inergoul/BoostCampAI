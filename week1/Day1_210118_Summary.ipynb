{
 "cells": [
  {
   "cell_type": "markdown",
   "id": "postal-representation",
   "metadata": {},
   "source": [
    "## Week 0\n",
    "### - Computer Basic - File System & Terminal"
   ]
  },
  {
   "cell_type": "markdown",
   "id": "subsequent-draft",
   "metadata": {},
   "source": [
    "##### 1. Operating System\n",
    "\n",
    "   * Computer 구성 요소 :\n",
    "        - Software(Applications + Operating System) + Hardware(CPU + Memory)\n",
    "        - 프로그램은 OS에 dependent 함\n",
    "\n",
    "##### 2. 파일 시스템 \n",
    "\n",
    "* File System : OS에서 파일을 저장하는 트리구조 저장 체계\n",
    "* File : 정보를 저장하는 논리적인 단위, 파일명과 확장자로 식별됨\n",
    "* Directory : 폴더로도 불림, 다른 파일 및 디렉토리 포함 가능\n",
    "* 경로 : 컴퓨터 파일의 고유한 위치, 트리 구조상 노드 연결\n",
    "    * 절대경로 : 루트 디렉토리 ~ 파일 위치\n",
    "    * 상대경로 : 현재 디렉토리 ~ 목표 파일\n",
    "        ./ : 현재 폴더                 ../ : 상위폴더\n",
    "        \n",
    "##### 3. 터미널\n",
    "\n",
    "* GUI(Graphical User Interface) : 흔히 사용하는 그래픽\n",
    "* CLI(Command Line Interface) : 마우스가 아닌 키보드 text 명령을 입력하는 인터페이스\n",
    "* 추천 프로그램 : Windows Terminal / cmder\n",
    "* Console = Terminal = CMD Window ( CLI 로 입력하는 화면 )\n",
    "|cmd 명령어|shell 명령어|설명\n",
    "|---------|-------------|----------------|\n",
    "|cd|cd|change directory|\n",
    "|cls|clear|clear screen|\n",
    "|copy|cp|파일 복사|\n",
    "|del|rm|파일 지우기|\n",
    "|dir|ls|디렉터리 목록|\n",
    "***\n"
   ]
  },
  {
   "cell_type": "markdown",
   "id": "stable-president",
   "metadata": {},
   "source": [
    "## Week 1\n",
    "### - Python"
   ]
  },
  {
   "cell_type": "markdown",
   "id": "tamil-rings",
   "metadata": {},
   "source": [
    "##### Lecture 1: Python Overview\n",
    "\n",
    "- 파이썬의 시작 : 1991년 귀도 반로섬(자비로운 종신 독재자)\n",
    "- 파이썬의 특징\n",
    "    - 플랫폼 독립적인 인터프리터 언어\n",
    "        - 운영체제와 상관없이 프로그램을 바로 실행할 수 있게 지원\n",
    "        - 컴파일러 : 소스코드를 기계어로 먼저 번역, 실행속도 빠름(C, Java, C++, C#)\n",
    "        - 인터프리터 : 별도의 번역과정  없이 소스코드를 실행시점에 해석, 간단한 작성, 메모리가 적게 필요(python,scala)\n",
    "\n",
    "    - 객체지향 언어\n",
    "        - 실행 순서가 아닌 단위 모듈(객체) 중심 프로그램 작성\n",
    "        - 객체는 method(행동, 함수) + attribute(속성)\n",
    "\n",
    "    - 동적 타이핑 언어\n",
    "        - 프로그램이 실행하는 시점에 데이터 타입을 결정함\n",
    "\n",
    "- 파이썬의 장점(Life is short, You need Python)\n",
    "    - 이해하기 쉽다\n",
    "    - 다양한 라이브러리\n",
    "    - 이미 다양한 프로그램, 웹에서 사용됨\n",
    "    - - -"
   ]
  },
  {
   "cell_type": "markdown",
   "id": "varied-algorithm",
   "metadata": {},
   "source": [
    "##### Lecture 2: Coding Environment\n",
    "\n",
    "- 개발환경 구성 요소\n",
    "    - 운영체제(OS) - Windows, Linux, Mac OS\n",
    "    - Python Interpreter - Python 3.x, **Anaconda**\n",
    "    - 코드 편집기(Editor)\n",
    "        - 설치된 어플리케이션 : 메모장, Vim, Sublime Text, **VS Code**, PyCharm\n",
    "        - 웹기반 인터랙티브 편집기 : **Jupyter(표준)**, **Colab(Google)**\n",
    "        - - -"
   ]
  },
  {
   "cell_type": "markdown",
   "id": "sweet-helen",
   "metadata": {},
   "source": [
    "##### Lecture 3 : Jupyter & Colab\n",
    "\n",
    "- Jupyter : 데이터 분석을 위한 파이썬 IDE ( Python Shell + 코드편집기 )\n",
    "    - IPython(http://ipython.org) kernel 을 기반으로 한 대화형 파이썬 shell\n",
    "    - 미디어, 텍스트, 코드, 수식 등을 하나의 문서로 표현 가능\n",
    "\n",
    "- Colab : 구글이 개발, 클라우드 기반의 jupyter notebook\n",
    "    - Google Drive + GCP(구글 클라우드 플랫폼) + jupyter\n",
    "    - VSCode 등과 연결해서 사용 가능\n",
    "    - 구글 드라이브 파일 업로드 가능\n",
    "    - 초반 여러가지 모듈이 장착\n",
    "    - V100 이상의 GPU를 무료 사용 가능\n"
   ]
  },
  {
   "cell_type": "markdown",
   "id": "outer-selling",
   "metadata": {},
   "source": [
    "##### 피어 세션\n",
    "\n",
    "- 2조 팀원 인사(총 7인)\n",
    "- 팀명(야근하는 부엉2), 모더레이터, 피어 규칙, 피어세션 활용 방법 정함\n",
    "- https://paperswithcode.com/ - 논문과 코드를 함께 확인할 수 있는 사이트"
   ]
  },
  {
   "cell_type": "markdown",
   "id": "alone-housing",
   "metadata": {},
   "source": [
    "##### 개인 학습시간\n",
    "\n",
    "- 구글 코랩 튜토리얼 해보기\n",
    "    - 참고 : [유투브](https://www.youtube.com/watch?v=nQu9yycRaMI&feature=youtu.be)\n",
    "    - 작성1 : [Colab의 하드웨어](https://colab.research.google.com/drive/15f6Ewtmk6A30P0PsbylblXm15EaefRAi?usp=sharing)\n",
    "    - 작성2 : [Colab 파일 업로드](https://colab.research.google.com/drive/1riGO11LLByS2IupInhJVkLLMNJAT4wdO?usp=sharing)\n",
    "\n",
    "- 마크다운 사용법 학습\n",
    "    - 참고 : [마크다운 사용법 정리 깃헙](https://gist.github.com/ihoneymon/652be052a0727ad59601)\n",
    "    \n",
    "- 깃허브 계정 생성 및 ipynb file 업로드"
   ]
  },
  {
   "cell_type": "markdown",
   "id": "cosmetic-indonesian",
   "metadata": {},
   "source": [
    "\n",
    "\n",
    "\n",
    "\n"
   ]
  }
 ],
 "metadata": {
  "kernelspec": {
   "display_name": "Python 3",
   "language": "python",
   "name": "python3"
  },
  "language_info": {
   "codemirror_mode": {
    "name": "ipython",
    "version": 3
   },
   "file_extension": ".py",
   "mimetype": "text/x-python",
   "name": "python",
   "nbconvert_exporter": "python",
   "pygments_lexer": "ipython3",
   "version": "3.8.5"
  }
 },
 "nbformat": 4,
 "nbformat_minor": 5
}
