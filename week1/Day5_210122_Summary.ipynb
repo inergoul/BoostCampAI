{
 "cells": [
  {
   "cell_type": "markdown",
   "id": "wooden-madness",
   "metadata": {},
   "source": [
    "#### Lecture 1 : Exception, File Handling, Logging"
   ]
  },
  {
   "cell_type": "markdown",
   "id": "compatible-surgeon",
   "metadata": {},
   "source": [
    "Exception\n",
    "- 발생 여부를 사전에 인지할 수 있는 예외 / 개발자가 명시적으로 처리\n",
    "- 예상할 수 없는 예외에 대처하기 위한 exception handling\n",
    "- try ~ except, else(권장하지 않음), finally"
   ]
  },
  {
   "cell_type": "code",
   "execution_count": 5,
   "id": "presidential-xerox",
   "metadata": {},
   "outputs": [
    {
     "name": "stdout",
     "output_type": "stream",
     "text": [
      "0 10\n",
      "1 5\n",
      "2 3\n",
      "3 2\n",
      "4 2\n",
      "list index out of range\n",
      "list index out of range\n",
      "list index out of range\n",
      "list index out of range\n",
      "list index out of range\n"
     ]
    }
   ],
   "source": [
    "a = [1,2,3,4,5]\n",
    "for i in range(10):\n",
    "    try:\n",
    "        print(i, 10 // a[i])\n",
    "    except ZeroDivisionError:\n",
    "        print(\"Error\")\n",
    "        print(\"Not divided by 0\")\n",
    "    except IndexError as e:\n",
    "        print(e)\n",
    "    except Exception as e:\n",
    "        print(e)"
   ]
  },
  {
   "cell_type": "code",
   "execution_count": 6,
   "id": "operating-handling",
   "metadata": {
    "scrolled": true
   },
   "outputs": [
    {
     "name": "stdout",
     "output_type": "stream",
     "text": [
      "변환할 정수 값 입력w\n"
     ]
    },
    {
     "ename": "ValueError",
     "evalue": "숫자값을 입력해야 합니다",
     "output_type": "error",
     "traceback": [
      "\u001b[1;31m---------------------------------------------------------------------------\u001b[0m",
      "\u001b[1;31mValueError\u001b[0m                                Traceback (most recent call last)",
      "\u001b[1;32m<ipython-input-6-221a866a5e34>\u001b[0m in \u001b[0;36m<module>\u001b[1;34m\u001b[0m\n\u001b[0;32m      4\u001b[0m     \u001b[1;32mfor\u001b[0m \u001b[0mdigit\u001b[0m \u001b[1;32min\u001b[0m \u001b[0mvalue\u001b[0m\u001b[1;33m:\u001b[0m\u001b[1;33m\u001b[0m\u001b[1;33m\u001b[0m\u001b[0m\n\u001b[0;32m      5\u001b[0m         \u001b[1;32mif\u001b[0m \u001b[0mdigit\u001b[0m \u001b[1;32mnot\u001b[0m \u001b[1;32min\u001b[0m \u001b[1;34m'0123456789'\u001b[0m\u001b[1;33m:\u001b[0m\u001b[1;33m\u001b[0m\u001b[1;33m\u001b[0m\u001b[0m\n\u001b[1;32m----> 6\u001b[1;33m             \u001b[1;32mraise\u001b[0m \u001b[0mValueError\u001b[0m\u001b[1;33m(\u001b[0m\u001b[1;34m\"숫자값을 입력해야 합니다\"\u001b[0m\u001b[1;33m)\u001b[0m\u001b[1;33m\u001b[0m\u001b[1;33m\u001b[0m\u001b[0m\n\u001b[0m\u001b[0;32m      7\u001b[0m     \u001b[0mprint\u001b[0m\u001b[1;33m(\u001b[0m\u001b[1;34m'정수값으로 변환된 숫자 :'\u001b[0m\u001b[1;33m,\u001b[0m \u001b[0mint\u001b[0m\u001b[1;33m(\u001b[0m\u001b[0mvalue\u001b[0m\u001b[1;33m)\u001b[0m\u001b[1;33m)\u001b[0m\u001b[1;33m\u001b[0m\u001b[1;33m\u001b[0m\u001b[0m\n",
      "\u001b[1;31mValueError\u001b[0m: 숫자값을 입력해야 합니다"
     ]
    }
   ],
   "source": [
    "# raise : 강제로 exception 발생\n",
    "while True:\n",
    "    value = input('변환할 정수 값 입력')\n",
    "    for digit in value:\n",
    "        if digit not in '0123456789':\n",
    "            raise ValueError(\"숫자값을 입력해야 합니다\")\n",
    "    print('정수값으로 변환된 숫자 :', int(value))"
   ]
  },
  {
   "cell_type": "code",
   "execution_count": 1,
   "id": "urban-blues",
   "metadata": {
    "scrolled": false
   },
   "outputs": [
    {
     "ename": "AssertionError",
     "evalue": "",
     "output_type": "error",
     "traceback": [
      "\u001b[1;31m---------------------------------------------------------------------------\u001b[0m",
      "\u001b[1;31mAssertionError\u001b[0m                            Traceback (most recent call last)",
      "\u001b[1;32m<ipython-input-1-c9436c7ed365>\u001b[0m in \u001b[0;36m<module>\u001b[1;34m\u001b[0m\n\u001b[0;32m      4\u001b[0m     \u001b[1;32mreturn\u001b[0m \u001b[0mbin\u001b[0m\u001b[1;33m(\u001b[0m\u001b[0mdecimal_number\u001b[0m\u001b[1;33m)\u001b[0m\u001b[1;33m\u001b[0m\u001b[1;33m\u001b[0m\u001b[0m\n\u001b[0;32m      5\u001b[0m \u001b[1;33m\u001b[0m\u001b[0m\n\u001b[1;32m----> 6\u001b[1;33m \u001b[0mprint\u001b[0m\u001b[1;33m(\u001b[0m\u001b[0mget_binary_number\u001b[0m\u001b[1;33m(\u001b[0m\u001b[1;36m10.0\u001b[0m\u001b[1;33m)\u001b[0m\u001b[1;33m)\u001b[0m\u001b[1;33m\u001b[0m\u001b[1;33m\u001b[0m\u001b[0m\n\u001b[0m",
      "\u001b[1;32m<ipython-input-1-c9436c7ed365>\u001b[0m in \u001b[0;36mget_binary_number\u001b[1;34m(decimal_number)\u001b[0m\n\u001b[0;32m      1\u001b[0m \u001b[1;31m# assert : 턱정 조건을 만족하지 않을 경우 예외 발생\u001b[0m\u001b[1;33m\u001b[0m\u001b[1;33m\u001b[0m\u001b[1;33m\u001b[0m\u001b[0m\n\u001b[0;32m      2\u001b[0m \u001b[1;32mdef\u001b[0m \u001b[0mget_binary_number\u001b[0m\u001b[1;33m(\u001b[0m\u001b[0mdecimal_number\u001b[0m \u001b[1;33m:\u001b[0m \u001b[0mint\u001b[0m\u001b[1;33m)\u001b[0m\u001b[1;33m:\u001b[0m\u001b[1;33m\u001b[0m\u001b[1;33m\u001b[0m\u001b[0m\n\u001b[1;32m----> 3\u001b[1;33m     \u001b[1;32massert\u001b[0m \u001b[0misinstance\u001b[0m\u001b[1;33m(\u001b[0m\u001b[0mdecimal_number\u001b[0m\u001b[1;33m,\u001b[0m \u001b[0mint\u001b[0m\u001b[1;33m)\u001b[0m\u001b[1;33m\u001b[0m\u001b[1;33m\u001b[0m\u001b[0m\n\u001b[0m\u001b[0;32m      4\u001b[0m     \u001b[1;32mreturn\u001b[0m \u001b[0mbin\u001b[0m\u001b[1;33m(\u001b[0m\u001b[0mdecimal_number\u001b[0m\u001b[1;33m)\u001b[0m\u001b[1;33m\u001b[0m\u001b[1;33m\u001b[0m\u001b[0m\n\u001b[0;32m      5\u001b[0m \u001b[1;33m\u001b[0m\u001b[0m\n",
      "\u001b[1;31mAssertionError\u001b[0m: "
     ]
    }
   ],
   "source": [
    "# assert : 턱정 조건을 만족하지 않을 경우 예외 발생\n",
    "def get_binary_number(decimal_number : int):\n",
    "    assert isinstance(decimal_number, int)\n",
    "    return bin(decimal_number)\n",
    "print(get_binary_number(10.0))"
   ]
  },
  {
   "cell_type": "markdown",
   "id": "loaded-savings",
   "metadata": {},
   "source": [
    "File\n",
    "- text 파일 : 인간이 이해할 수 있는 문자열 파일, 메모장 확인 가능\n",
    "- binary 파일 : 컴퓨터만 이해할 수 있는 이진 형식 파일\n",
    "- 파일 열기\n",
    "    - f = open('파일명', '모드') + f.close()\n",
    "    - with open('파일명', '모드') as 변수:\n",
    "    - f.readlines() 파일전체를 메모리에, f.readline() 한줄씩 읽기"
   ]
  },
  {
   "cell_type": "markdown",
   "id": "funky-anger",
   "metadata": {},
   "source": [
    "- os.mkdir('폴더명') : 폴더만들기\n",
    "- shutil.copy() : 파일 복사 함수\n",
    "- pathlib : 파일 객체 다루기"
   ]
  },
  {
   "cell_type": "code",
   "execution_count": 2,
   "id": "quarterly-friday",
   "metadata": {
    "scrolled": true
   },
   "outputs": [
    {
     "name": "stdout",
     "output_type": "stream",
     "text": [
      "C:\\Users\\jinwo\\workspace\\week1\n",
      "C:\\Users\\jinwo\\workspace\n"
     ]
    },
    {
     "data": {
      "text/plain": [
       "[WindowsPath('C:/Users/jinwo'), WindowsPath('C:/Users'), WindowsPath('C:/')]"
      ]
     },
     "execution_count": 2,
     "metadata": {},
     "output_type": "execute_result"
    }
   ],
   "source": [
    "import pathlib\n",
    "cwd = pathlib.Path.cwd()\n",
    "print(cwd)\n",
    "print(cwd.parent)\n",
    "list(cwd.parent.parents)"
   ]
  },
  {
   "cell_type": "markdown",
   "id": "patent-confidence",
   "metadata": {},
   "source": [
    "Pickle\n",
    "- 파이썬의 객체 저장위치 : 메모리\n",
    "- 객체를 영속화 하기위한 built-in 객체"
   ]
  },
  {
   "cell_type": "code",
   "execution_count": 5,
   "id": "religious-lithuania",
   "metadata": {},
   "outputs": [],
   "source": [
    "import pickle\n",
    "f = open('list.pickle', 'wb')\n",
    "test = [1,2,3,4,5]\n",
    "pickle.dump(test, f)\n",
    "f.close()"
   ]
  },
  {
   "cell_type": "code",
   "execution_count": 6,
   "id": "spread-declaration",
   "metadata": {},
   "outputs": [
    {
     "name": "stdout",
     "output_type": "stream",
     "text": [
      "[1, 2, 3, 4, 5]\n"
     ]
    }
   ],
   "source": [
    "del test # 객체는 삭제\n",
    "f = open('list.pickle', 'rb')\n",
    "test_pickle = pickle.load(f)\n",
    "print(test_pickle)\n",
    "f.close()"
   ]
  },
  {
   "cell_type": "markdown",
   "id": "ordinary-official",
   "metadata": {},
   "source": [
    "Logging\n",
    "- 기록을 print로만 남기면 분석시 사용이 어려움\n",
    "- 레벨별, 모듈별 logging 의 필요성"
   ]
  },
  {
   "cell_type": "code",
   "execution_count": 12,
   "id": "adjustable-financing",
   "metadata": {
    "scrolled": true
   },
   "outputs": [
    {
     "name": "stderr",
     "output_type": "stream",
     "text": [
      "WARNING:root:조심하세요\n",
      "ERROR:root:에러발생\n",
      "CRITICAL:root:종료\n"
     ]
    }
   ],
   "source": [
    "import logging\n",
    "logger = logging.getLogger(\"main\")\n",
    "logging.basicConfig(level=logging.DEBUG)\n",
    "logger.setLevel(logging.INFO)\n",
    "logging.debug(\"틀렸습니다\") # 개발\n",
    "logging.info(\"확인하세요\")\n",
    "logging.warning(\"조심하세요\") # 운영\n",
    "logging.error(\"에러발생\") # 사용자\n",
    "logging.critical(\"종료\")"
   ]
  },
  {
   "cell_type": "markdown",
   "id": "cooperative-gravity",
   "metadata": {},
   "source": [
    "설정하기 : 데이터 파일 위치, 파일저장 장소, Operation type, ...\n",
    "- configparser : 파일에\n",
    "- argparser : 실행 시점에(command line option)"
   ]
  },
  {
   "cell_type": "markdown",
   "id": "novel-cleaner",
   "metadata": {},
   "source": [
    "#### Lecture2. Python data handling"
   ]
  },
  {
   "cell_type": "markdown",
   "id": "attempted-fraud",
   "metadata": {},
   "source": [
    "CSV(comma separated value)\n",
    "- 필드를 ,로 구분한 텍스트 파일\n",
    "- csv 객체를 제공함"
   ]
  },
  {
   "cell_type": "code",
   "execution_count": 17,
   "id": "personal-final",
   "metadata": {},
   "outputs": [
    {
     "name": "stdout",
     "output_type": "stream",
     "text": [
      "Header : \t ['customerNumber', 'customerName', 'contactLastName', 'contactFirstName', 'phone', 'addressLine1', 'addressLine2', 'city', 'state', 'postalCode', 'country', 'salesRepEmployeeNumber', 'creditLimit\\n']\n",
      "Data 0 \t\t ['103', '\"Atelier graphique\"', 'Schmitt', '\"Carine \"', '40.32.2555', '\"54', ' rue Royale\"', 'NULL', 'Nantes', 'NULL', '44000', 'France', '1370', '21000\\n']\n",
      "Data 1 \t\t ['112', '\"Signal Gift Stores\"', 'King', 'Jean', '7025551838', '\"8489 Strong St.\"', 'NULL', '\"Las Vegas\"', 'NV', '83030', 'USA', '1166', '71800\\n']\n",
      "Data 2 \t\t ['114', '\"Australian Collectors', ' Co.\"', 'Ferguson', 'Peter', '\"03 9520 4555\"', '\"636 St Kilda Road\"', '\"Level 3\"', 'Melbourne', 'Victoria', '3004', 'Australia', '1611', '117300\\n']\n",
      "Data 3 \t\t ['119', '\"La Rochelle Gifts\"', 'Labrune', '\"Janine \"', '40.67.8555', '\"67', ' rue des Cinquante Otages\"', 'NULL', 'Nantes', 'NULL', '44000', 'France', '1370', '118200\\n']\n",
      "Data 4 \t\t ['121', '\"Baane Mini Imports\"', 'Bergulfsen', '\"Jonas \"', '\"07-98 9555\"', '\"Erling Skakkes gate 78\"', 'NULL', 'Stavern', 'NULL', '4110', 'Norway', '1504', '81700\\n']\n",
      "122\n"
     ]
    }
   ],
   "source": [
    "line_counter = 0\n",
    "data_header = []\n",
    "customer_list = []\n",
    "with open(\"../customers.csv\") as customer_data:\n",
    "    while True:\n",
    "        data = customer_data.readline()\n",
    "        if not data:\n",
    "            break\n",
    "        if line_counter == 0:\n",
    "            data_header = data.split(\",\")\n",
    "        else:\n",
    "            customer_list.append(data.split(\",\"))   \n",
    "        line_counter += 1\n",
    "print(\"Header : \\t\", data_header)\n",
    "for i in range(0, 5):\n",
    "    print(\"Data\", i, \"\\t\\t\", customer_list[i])\n",
    "print(len(customer_list))"
   ]
  },
  {
   "cell_type": "markdown",
   "id": "gross-fundamentals",
   "metadata": {},
   "source": [
    "Web\n",
    "- world wide wed(WWW)\n",
    "- 데이터 송수신을 위한 http 프로토콜 / 화면 표시를 위한 html\n",
    "- html의 페이지 생성 규칙을 이용하여 데이터 추출 가능\n",
    "\n",
    "정규식\n",
    "- 복잡한 문자열 패턴을 정의하는 문자 표현 공식\n",
    "- 정규식 연습장 (https://www.regexr.com)\n",
    "\n",
    "XML(eXtensible Markup Language)\n",
    "- 데이터의 구조와 의미를 설명하는 tag를 사용하여 표시하는 언어\n",
    "- < > </ > 를 이용한 트리 구조\n",
    "- beatifulsoup을 이용한 파싱\n",
    "\n",
    "JSON(JavaScript Object Notation)\n",
    "- javascript의 데이터 객체 표현 방식으로 간결함\n",
    "- 파이썬의 dict 처럼 key:value 쌍으로 데이터 표시(dict type과 호환 가능)\n",
    "- 데이터 용량이 적고, code로의 전환이 쉬움(대부분의 API에서 사용)"
   ]
  },
  {
   "cell_type": "markdown",
   "id": "rising-license",
   "metadata": {},
   "source": [
    "#### Master Session\n",
    "- 주식하라 : 주식을 하면 산업과 세상의 변화를 느낄 수 있다\n",
    "- VR, AR의 시대가 올 것\n",
    "- 세상을 따라가지 않고 선도할 수 있는 재료\n",
    "- 코드의 간결성, 모듈별 독립적인 구조를 갖추고 가독성이 있게\n",
    "- 배우면 좋은 기술 스택은 끝이없다. Hadoop, spark, airflow\n",
    "- AutoML 이 모든걸 해결해줄거라 믿지 않음\n",
    "- 제페토, 지금은 카카오, 미래는 네이버\n",
    "- 자신을 믿고 위로받도록"
   ]
  },
  {
   "cell_type": "markdown",
   "id": "adapted-today",
   "metadata": {},
   "source": [
    "#### Peer Session\n",
    "- code review\n",
    "- DFS 활용 문제"
   ]
  },
  {
   "cell_type": "markdown",
   "id": "advised-fraud",
   "metadata": {},
   "source": [
    "#### 해설 강의\n",
    "- isdecimal(), isdigit() 함수 권장(pythonic), int(num) 후 try.. except... 로 return 분기 가능\n",
    "- 함수는 독립적으로 하나의 기능만 수행해야 한다."
   ]
  }
 ],
 "metadata": {
  "kernelspec": {
   "display_name": "Python 3",
   "language": "python",
   "name": "python3"
  },
  "language_info": {
   "codemirror_mode": {
    "name": "ipython",
    "version": 3
   },
   "file_extension": ".py",
   "mimetype": "text/x-python",
   "name": "python",
   "nbconvert_exporter": "python",
   "pygments_lexer": "ipython3",
   "version": "3.8.5"
  }
 },
 "nbformat": 4,
 "nbformat_minor": 5
}
