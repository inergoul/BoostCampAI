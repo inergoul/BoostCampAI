{
 "cells": [
  {
   "cell_type": "markdown",
   "id": "appropriate-surfing",
   "metadata": {},
   "source": [
    "#### Lecture 1. 모델의 시공간"
   ]
  },
  {
   "cell_type": "markdown",
   "id": "floppy-bridal",
   "metadata": {},
   "source": [
    "- Space(problem(state) space & search(solution) space) and Time(opearation) tradeoff"
   ]
  },
  {
   "cell_type": "markdown",
   "id": "elder-palestine",
   "metadata": {},
   "source": [
    "#### mini code : time complexity"
   ]
  },
  {
   "cell_type": "code",
   "execution_count": 8,
   "id": "southeast-roberts",
   "metadata": {
    "scrolled": true
   },
   "outputs": [
    {
     "name": "stdout",
     "output_type": "stream",
     "text": [
      "Subarray in step 0: [0, 1, 2, 3, 4, 5, 6, 7, 8]\n",
      "Subarray in step 1: [5, 6, 7, 8]\n",
      "Subarray in step 2: [7, 8]\n",
      "Subarray in step 3: [8]\n"
     ]
    },
    {
     "data": {
      "text/plain": [
       "8"
      ]
     },
     "execution_count": 8,
     "metadata": {},
     "output_type": "execute_result"
    }
   ],
   "source": [
    "# binary search\n",
    "def binary_search_iterative(array, element):\n",
    "    \n",
    "    fr = 0\n",
    "    to = len(array) - 1\n",
    "    step = 0\n",
    "    \n",
    "    while (fr <= to):\n",
    "        print('Subarray in step {}: {}'.format(step, str(array[fr:to+1])))\n",
    "        step += 1\n",
    "        ptr = (fr + to) // 2\n",
    "        if element == array[ptr]:\n",
    "            return ptr\n",
    "        elif element < array[ptr]:\n",
    "            to = ptr - 1\n",
    "        else:\n",
    "            fr = ptr + 1\n",
    "    return -1\n",
    "\n",
    "binary_search_iterative([x for x in range(9)], 8)\n",
    "        "
   ]
  },
  {
   "cell_type": "markdown",
   "id": "progressive-cycle",
   "metadata": {},
   "source": [
    "1. Space and time\n",
    "- problem space : 문제가 정의된 공간 \n",
    "- search space(solution space, feasible region) : 제약조건을 만족하는 solution 후보군\n",
    "- time complexity\n",
    "    - $ O(1) \\subset O(log n) \\subset O(n^{1/k}) \\subset O(n) \\subset O(nlogn) \\subset O(n^k) \\subset O(c^n) $\n",
    "- P/NP 문제 : machine learning에서 모든 가능성을 고려하지 않기 때문에 접근가능한 영역\n",
    "- algorithm 문제에서는 time-space trade-off 가 존재\n",
    "- entropy : 정보의 불확실성의 평균 레벨을 의미하는 랜덤 변수\n",
    "    - problem(low entropy) >> solving(high entropy) >> solution(low entropy)"
   ]
  },
  {
   "cell_type": "markdown",
   "id": "external-caution",
   "metadata": {},
   "source": [
    "2. parameter search\n",
    "- 개발자가 architecture를 만들고 hyperparameter tuning을 통해 model building 하지만 building 설계 역시 ML model이 담당하는 영역이 커짐\n",
    "- search space : binary search 확실한 답을 보장 / ml model : 통계적인 답만 줄 수 있음\n",
    "- data, ml model의 가중치 모두 다차원 공간상의 하나의 점"
   ]
  },
  {
   "cell_type": "markdown",
   "id": "decreased-following",
   "metadata": {},
   "source": [
    "3. hyperparameter search\n",
    "- exploitation(결과 실행) 과 exploration(결과 선택 탐색)을 반복하는 작업\n",
    "- grid search / random search\n",
    "\n",
    "4. Neural Architecture Search(NAS)\n",
    "- muliti-object를 만족시키는 network compression\n",
    "- search strategy\n",
    "- MnasNet : search space 상의 architecture를 mobile phone에 넣고 돌려 실험후 수정\n",
    "- ProxylessNAS\n",
    "- depth-wise separable convolution : param 수와 연산 숫자 대폭 감소"
   ]
  },
  {
   "cell_type": "markdown",
   "id": "modified-freight",
   "metadata": {},
   "source": [
    "#### Lecture 2. Compression"
   ]
  },
  {
   "cell_type": "markdown",
   "id": "swiss-cutting",
   "metadata": {},
   "source": [
    "#### mini code : Codebook"
   ]
  },
  {
   "cell_type": "code",
   "execution_count": 10,
   "id": "entire-functionality",
   "metadata": {},
   "outputs": [
    {
     "name": "stdout",
     "output_type": "stream",
     "text": [
      "Codebook:  {'A': 0, 'B': 1, 'C': 2, 'D': 3}\n",
      "Original message: BCDADA, (6 bytes are needed)\n",
      "Encoded message: 123030, (1.5 bytes are needed)\n",
      "Compression rate:  4.0\n",
      "Decoded message : BCDADA\n"
     ]
    }
   ],
   "source": [
    "dic = {'A': 0, 'B': 1, 'C': 2, 'D': 3}\n",
    "print('Codebook: ', dic)\n",
    "string = 'BCDADA'\n",
    "print('Original message: {}, ({} bytes are needed)'.format(string, len(string)))\n",
    "\n",
    "# encoding process\n",
    "encoded = [dic[item] for item in [char for char in string]]\n",
    "encoded = \"\".join(map(str, encoded))\n",
    "print(\"Encoded message: {}, ({} bytes are needed)\".format(encoded, len(encoded)/4))\n",
    "print('Compression rate: ', len(string)/(len(encoded)/4))\n",
    "\n",
    "# decoding process\n",
    "reversed_dic = dict(map(reversed, dic.items()))\n",
    "a = [item for item in list(encoded)]\n",
    "decoded = [reversed_dic[int(num)] for num in [item for item in list(encoded)]]\n",
    "decoded = ''.join(map(str, decoded))\n",
    "print('Decoded message :', decoded)"
   ]
  },
  {
   "cell_type": "code",
   "execution_count": 12,
   "id": "detailed-falls",
   "metadata": {},
   "outputs": [
    {
     "name": "stdout",
     "output_type": "stream",
     "text": [
      "Codebook:  {'A': 0, 'B': 10, 'C': 110, 'D': 1110, 'E': 11110, 'F': 111110}\n",
      "Original message: DFEADEEDE, (9 bytes are needed)\n",
      "Encoded message: 111011111011110011101111011110111011110, (9.75 bytes are needed)\n",
      "Compression rate:  0.9230769230769231\n",
      "Decoded message : DFEADEEDE\n"
     ]
    }
   ],
   "source": [
    "dic = {'A': 0, 'B': 10, 'C': 110, 'D': 1110, 'E':11110, 'F':111110}\n",
    "print('Codebook: ', dic)\n",
    "string = 'DFEADEEDE'\n",
    "print('Original message: {}, ({} bytes are needed)'.format(string, len(string)))\n",
    "\n",
    "# encoding process\n",
    "encoded = [dic[item] for item in [char for char in string]]\n",
    "encoded = \"\".join(map(str, encoded))\n",
    "print(\"Encoded message: {}, ({} bytes are needed)\".format(encoded, len(encoded)/4))\n",
    "print('Compression rate: ', len(string)/(len(encoded)/4))\n",
    "\n",
    "# decoding process\n",
    "decoded = ''\n",
    "temp = ''\n",
    "inv_code = {v:k for k,v in dic.items()}\n",
    "for c in encoded:\n",
    "    temp += str(c)\n",
    "    if int(temp) in inv_code.keys():\n",
    "        decoded += inv_code[int(temp)]\n",
    "        temp = ''\n",
    "    else:\n",
    "        pass\n",
    "print('Decoded message :', decoded)"
   ]
  },
  {
   "cell_type": "markdown",
   "id": "productive-change",
   "metadata": {},
   "source": [
    "1. 압축(compression)\n",
    "- 비손실 압축 : zip, wav, flac, png // 손실 압축 : mp3, mp4, avi, jpg, gif\n",
    "- huffman coding : original message에 들어있는 char 수가 많을수록 적은 bit로 압축\n",
    "- coding 을 통해 len(data) 가 작아질 때 compression\n",
    "\n",
    "2. 부호(coding)\n",
    "- computer는 Finite State Machine(FSM)\n",
    "    - computing : input state ==(time/space)==> output state\n",
    "    - DB : database --(Create/Read/Update/Delete)--> database\n",
    "    - Security : M --(Encrypt)--> M' --(Decrypt)--> M\n",
    "    - Network : Client --(Request)--> Server --(Response)--> Client\n",
    "    - Operating system : Application <--> OS <--> Hardware\n",
    "    - ML : Underfit ==(Train)==> Overfit ==(Regularization)==> Underfit\n",
    "        - cycle의 사이 어디에선가 optimized\n",
    "        - ML model도 input으로부터 output을 생성하고 output의 길이가 작다면 압축기"
   ]
  },
  {
   "cell_type": "markdown",
   "id": "maritime-drain",
   "metadata": {},
   "source": [
    "3. 부호화(encoding)\n",
    "- classifier도 하나의 encoder\n",
    "- KL-divergence 안에도 entropy의 개념이 포함되어 있음 (CE - E)\n",
    "    - 완벽히 optimized 상태는 무질서도가 0인 상태\n",
    "- cross-entropy coding 관점\n",
    "    - Hq(p) : q(x)라는 분포의 code로 메세지 p(x)를 해독했을 때 평균 길이"
   ]
  },
  {
   "cell_type": "markdown",
   "id": "reverse-billion",
   "metadata": {},
   "source": [
    "4. 압축률(compression rate)\n",
    "- 압축률은 parameter 개수의 비로 나타냄\n",
    "- 압축기법 : P(pruning), Q(quantization), H(huffman coding), S(SVD)"
   ]
  },
  {
   "cell_type": "markdown",
   "id": "advised-lodging",
   "metadata": {},
   "source": [
    "#### peer session"
   ]
  },
  {
   "cell_type": "code",
   "execution_count": 14,
   "id": "suspected-oklahoma",
   "metadata": {},
   "outputs": [],
   "source": [
    "import dis\n",
    "import numpy as np"
   ]
  },
  {
   "cell_type": "code",
   "execution_count": 19,
   "id": "immediate-tissue",
   "metadata": {},
   "outputs": [],
   "source": [
    "temp = range(1,20)\n",
    "def make_list(n):\n",
    "    return list(range(1,n))\n",
    "\n",
    "def make_numpy(a):\n",
    "    return np.array(range(1,n))\n",
    "\n",
    "\n",
    "t = list(temp)\n",
    "a = np.array(temp)"
   ]
  },
  {
   "cell_type": "code",
   "execution_count": 20,
   "id": "christian-insulin",
   "metadata": {
    "scrolled": false
   },
   "outputs": [
    {
     "name": "stdout",
     "output_type": "stream",
     "text": [
      "  3           0 LOAD_GLOBAL              0 (list)\n",
      "              2 LOAD_GLOBAL              1 (range)\n",
      "              4 LOAD_CONST               1 (1)\n",
      "              6 LOAD_FAST                0 (n)\n",
      "              8 CALL_FUNCTION            2\n",
      "             10 CALL_FUNCTION            1\n",
      "             12 RETURN_VALUE\n"
     ]
    }
   ],
   "source": [
    "dis.dis(make_list)"
   ]
  },
  {
   "cell_type": "code",
   "execution_count": 21,
   "id": "eleven-terminology",
   "metadata": {
    "scrolled": true
   },
   "outputs": [
    {
     "name": "stdout",
     "output_type": "stream",
     "text": [
      "  6           0 LOAD_GLOBAL              0 (np)\n",
      "              2 LOAD_ATTR                1 (array)\n",
      "              4 LOAD_GLOBAL              2 (range)\n",
      "              6 LOAD_CONST               1 (1)\n",
      "              8 LOAD_GLOBAL              3 (n)\n",
      "             10 CALL_FUNCTION            2\n",
      "             12 CALL_FUNCTION            1\n",
      "             14 RETURN_VALUE\n"
     ]
    }
   ],
   "source": [
    "dis.dis(make_numpy)"
   ]
  }
 ],
 "metadata": {
  "kernelspec": {
   "display_name": "Python 3",
   "language": "python",
   "name": "python3"
  },
  "language_info": {
   "codemirror_mode": {
    "name": "ipython",
    "version": 3
   },
   "file_extension": ".py",
   "mimetype": "text/x-python",
   "name": "python",
   "nbconvert_exporter": "python",
   "pygments_lexer": "ipython3",
   "version": "3.6.12"
  }
 },
 "nbformat": 4,
 "nbformat_minor": 5
}
