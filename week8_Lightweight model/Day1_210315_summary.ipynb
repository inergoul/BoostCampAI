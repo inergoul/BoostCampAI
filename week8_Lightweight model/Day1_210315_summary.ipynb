{
 "cells": [
  {
   "cell_type": "markdown",
   "id": "excess-burner",
   "metadata": {},
   "source": [
    "#### Lecture 1. Lightweight modeling technique"
   ]
  },
  {
   "cell_type": "markdown",
   "id": "metric-boards",
   "metadata": {},
   "source": [
    "#### mini code : Object in memory"
   ]
  },
  {
   "cell_type": "code",
   "execution_count": 4,
   "id": "stainless-sister",
   "metadata": {},
   "outputs": [
    {
     "name": "stdout",
     "output_type": "stream",
     "text": [
      "True\n",
      "True\n",
      "True\n",
      "False\n"
     ]
    }
   ],
   "source": [
    "a = 256\n",
    "print(a == 256)\n",
    "print(a is 256)\n",
    "b = 257\n",
    "print(b == 257)\n",
    "print(b is 257)"
   ]
  },
  {
   "cell_type": "code",
   "execution_count": 7,
   "id": "functional-mother",
   "metadata": {},
   "outputs": [
    {
     "name": "stdout",
     "output_type": "stream",
     "text": [
      "24\n",
      "28\n",
      "28\n",
      "32\n",
      "32\n",
      "36\n",
      "36\n",
      "40\n",
      "sys.int_info(bits_per_digit=30, sizeof_digit=4)\n"
     ]
    }
   ],
   "source": [
    "import sys\n",
    "print(sys.getsizeof(0))\n",
    "print(sys.getsizeof(1))\n",
    "print(sys.getsizeof(2 ** 30 - 1))\n",
    "print(sys.getsizeof(2 ** 30))\n",
    "print(sys.getsizeof(2 ** 60 - 1))\n",
    "print(sys.getsizeof(2 ** 60))\n",
    "print(sys.getsizeof(2 ** 90 - 1))\n",
    "print(sys.getsizeof(2 ** 90))\n",
    "print(sys.int_info)"
   ]
  },
  {
   "cell_type": "markdown",
   "id": "characteristic-practitioner",
   "metadata": {},
   "source": [
    "#### mini code : Bytecode 역어셈블러"
   ]
  },
  {
   "cell_type": "code",
   "execution_count": 9,
   "id": "angry-salad",
   "metadata": {},
   "outputs": [
    {
     "name": "stdout",
     "output_type": "stream",
     "text": [
      "30 ('a', 'b', 'c')\n",
      "  3           0 LOAD_FAST                0 (a)\n",
      "              2 LOAD_FAST                1 (b)\n",
      "              4 BINARY_ADD\n",
      "              6 STORE_FAST               2 (c)\n",
      "\n",
      "  4           8 LOAD_FAST                2 (c)\n",
      "             10 RETURN_VALUE\n"
     ]
    }
   ],
   "source": [
    "import dis\n",
    "def add(a,b):\n",
    "    c = a + b\n",
    "    return c\n",
    "r = add(10, 20)\n",
    "print(r, add.__code__.co_varnames)\n",
    "dis.dis(add)"
   ]
  },
  {
   "cell_type": "code",
   "execution_count": 10,
   "id": "narrative-kidney",
   "metadata": {},
   "outputs": [
    {
     "name": "stdout",
     "output_type": "stream",
     "text": [
      "30 ('a', 'b')\n",
      "  2           0 LOAD_FAST                0 (a)\n",
      "              2 LOAD_FAST                1 (b)\n",
      "              4 BINARY_ADD\n",
      "              6 RETURN_VALUE\n"
     ]
    }
   ],
   "source": [
    "def add(a,b):\n",
    "    return a + b\n",
    "r = add(10, 20)\n",
    "print(r, add.__code__.co_varnames)\n",
    "dis.dis(add)"
   ]
  },
  {
   "cell_type": "code",
   "execution_count": 13,
   "id": "noted-sunrise",
   "metadata": {},
   "outputs": [
    {
     "name": "stdout",
     "output_type": "stream",
     "text": [
      "True\n",
      "False\n",
      "  1           0 LOAD_NAME                0 (print)\n",
      "              2 LOAD_CONST               0 (4)\n",
      "              4 LOAD_CONST               1 (0)\n",
      "              6 DUP_TOP\n",
      "              8 ROT_THREE\n",
      "             10 COMPARE_OP               3 (!=)\n",
      "             12 JUMP_IF_FALSE_OR_POP    20\n",
      "             14 LOAD_CONST               5 ((0, 1, 2, 3))\n",
      "             16 COMPARE_OP               7 (not in)\n",
      "             18 JUMP_FORWARD             4 (to 24)\n",
      "        >>   20 ROT_TWO\n",
      "             22 POP_TOP\n",
      "        >>   24 CALL_FUNCTION            1\n",
      "             26 RETURN_VALUE\n",
      "  1           0 LOAD_NAME                0 (print)\n",
      "              2 LOAD_CONST               0 (4)\n",
      "              4 LOAD_CONST               1 (0)\n",
      "              6 COMPARE_OP               3 (!=)\n",
      "              8 LOAD_CONST               5 ((0, 1, 2, 3))\n",
      "             10 COMPARE_OP               7 (not in)\n",
      "             12 CALL_FUNCTION            1\n",
      "             14 RETURN_VALUE\n"
     ]
    }
   ],
   "source": [
    "print(4 != 0 not in [1,2,3])\n",
    "print((4 != 0) not in [1,2,3])\n",
    "dis.dis('print(4 != 0 not in [0,1,2,3])')\n",
    "dis.dis('print((4 != 0) not in [0,1,2,3])')"
   ]
  },
  {
   "cell_type": "markdown",
   "id": "partial-bubble",
   "metadata": {},
   "source": [
    "1. 결정(decision making)\n",
    "- 연역적(deductive) 결정 : definition, theorem, 전제가 참이면 결론이 참\n",
    "- 귀납적(inductive) 결정 : 관찰 결과에 따른 결정(data, model)\n",
    "- 결정이 바로 machine learning의 본질, 결정기, 데이터로 의사결정\n",
    "- decidable(analytic, critical, automatic, undecidable)\n",
    "- non-critical decision making >> critcal decision making\n",
    "- tool >> do >> (who,when,where,what,how) >> why >>/// wish (model이 도달 불가)\n",
    "\n",
    "2. 가벼운 결정기(lightweight decision making machine)\n",
    "- 경량화(lightweight) vs 소형화(miniaturization)\n",
    "- 데이터 수집 > 큰 모델 학습 > compress > device 탑재 > 판단 > 다른 domain 적용\n",
    "- TinyML : chip 수준에서 작동하는 ai model\n",
    "\n",
    "3. Backbone & dataset for model compression\n",
    "- 경량화 시에 이미 알려진 모델을 쓰는것이 성능 검증에 유용 ex) AlexNet,VGGnet,ResNet\n",
    "- dataset : Cifar10, Cifar100, ImageNet\n",
    "- 1 MB = (1000)^2 bytes // 1 MiB(mebibyte) = (1024)^2 bytes\n",
    "\n",
    "4. Edge Device ( dumb and fast )\n",
    "- low cost, no privacy concerns, stand-alone, perception response time\n",
    "- edge intelligence : edge 단 서버에서 처리\n",
    "    - edge caching(data 잠시 보유), edge offloading(edge 서버 개념), edge training, edge inference"
   ]
  },
  {
   "cell_type": "markdown",
   "id": "disciplinary-racing",
   "metadata": {},
   "source": [
    "#### Lecture 2. 동전의 뒷면\n",
    "- 상식이라고 하는 많은 것들의 반대쪽에 있는 것들을 보기\n",
    "    - 과거를 등지고 미래를 보기 vs 미래를 등지고 과거를 보기\n",
    "    - 우수한 DL 모델 vs 고객이 원하는 모델\n",
    "    - Huge AI vs Edge AI"
   ]
  },
  {
   "cell_type": "markdown",
   "id": "biological-thermal",
   "metadata": {},
   "source": [
    "#### mini code : system resource monitoring"
   ]
  },
  {
   "cell_type": "code",
   "execution_count": 14,
   "id": "affecting-companion",
   "metadata": {},
   "outputs": [
    {
     "name": "stdout",
     "output_type": "stream",
     "text": [
      "Mon Mar 15 11:36:03 2021       \n",
      "+-----------------------------------------------------------------------------+\n",
      "| NVIDIA-SMI 442.23       Driver Version: 442.23       CUDA Version: 10.2     |\n",
      "|-------------------------------+----------------------+----------------------+\n",
      "| GPU  Name            TCC/WDDM | Bus-Id        Disp.A | Volatile Uncorr. ECC |\n",
      "| Fan  Temp  Perf  Pwr:Usage/Cap|         Memory-Usage | GPU-Util  Compute M. |\n",
      "|===============================+======================+======================|\n",
      "|   0  GeForce MX150      WDDM  | 00000000:3A:00.0 Off |                  N/A |\n",
      "| N/A   48C    P8    N/A /  N/A |     64MiB /  2048MiB |      0%      Default |\n",
      "+-------------------------------+----------------------+----------------------+\n",
      "                                                                               \n",
      "+-----------------------------------------------------------------------------+\n",
      "| Processes:                                                       GPU Memory |\n",
      "|  GPU       PID   Type   Process name                             Usage      |\n",
      "|=============================================================================|\n",
      "|  No running processes found                                                 |\n",
      "+-----------------------------------------------------------------------------+\n"
     ]
    }
   ],
   "source": [
    "!nvidia-smi"
   ]
  },
  {
   "cell_type": "markdown",
   "id": "permanent-athletics",
   "metadata": {},
   "source": [
    "- linux 환경에서 쳐볼만한 명령어\n",
    "    - top\n",
    "    - vmstat -h\n",
    "    - sensors\n",
    "    - atop\n",
    "    - mpstat\n",
    "    - nvidia-smi\n",
    "    - sar 3\n",
    "    - sar 3 4"
   ]
  },
  {
   "cell_type": "markdown",
   "id": "vocational-street",
   "metadata": {},
   "source": [
    "1. 정방향, 역방향\n",
    "- 시간을 맞춰서 개발을 완료하면 된걸까\n",
    "    - 시간에 대한 잘못된 개념\n",
    "    - 상황을 투명하게 밝히고 늦게 안정적인 솔루션 전달 vs 버그가 있더라도 일정 내 전달\n",
    "- 열심히 하는게 잘하는 것일까\n",
    "- 잘 만들면 잘 팔릴까 : 내가 원하는 제품이 시장이 원하는 것은 아님\n",
    "- 고객의 요구사항을 반영하다가 아무 쓸모 없는 제품이 나올수도 있음\n",
    "- 뭔가를 작동하게 만드는 것이 개발을 잘하는 것일까 : 코드작성 시간은 5%\n",
    "    - 코드 구현 >> 리뷰 요청 >> 피드백 >> 수정 >> 병합\n",
    "- 사람은 불안할 때 계획을 세움(마음을 안정시키기 위한 도구일 뿐 일이 되게하는 것은 아님)\n",
    "- 확실한 상황에서 분업 / 불확실한 상황에서 협업\n",
    "\n",
    "2. AI에서 동전의 뒷면\n",
    "- 제작관점 vs 고객관점\n",
    "- AI model은 입력에 대해 정확한 출력을 보장하지 않음 (black box)\n",
    "- ML model training, modeling 이 전체에서 차지하는 부분은 생각보다 적음\n",
    "- 새로 AI 기술을 도입할 때 기존 인프라나 모델에 스며들 수 있는가\n",
    "- performance 보다 real-time/reliable/privacy/low cost를 고려한 edge device\n",
    "\n",
    "3. 경량화 example\n",
    "- 스마트폰 오타방지(NoTA), iTS, 매장 진열 시스템, 공사장 인부 판별"
   ]
  },
  {
   "cell_type": "markdown",
   "id": "thousand-yemen",
   "metadata": {},
   "source": [
    "#### Lecture 3. Optimization"
   ]
  },
  {
   "cell_type": "markdown",
   "id": "abstract-rachel",
   "metadata": {},
   "source": [
    "- 제약조건 하에서의 의사결정"
   ]
  },
  {
   "cell_type": "markdown",
   "id": "fantastic-invention",
   "metadata": {},
   "source": [
    "#### minicode : distance"
   ]
  },
  {
   "cell_type": "code",
   "execution_count": 23,
   "id": "approximate-mandate",
   "metadata": {},
   "outputs": [
    {
     "name": "stdout",
     "output_type": "stream",
     "text": [
      "1.4142135623730951\n",
      "1.0\n",
      "0.6666666666666666\n",
      "0.3333333333333333\n",
      "0.3333333333333333\n",
      "0.3333333333333333\n",
      "1.0\n",
      "0.29289321881345254\n",
      "1.0\n"
     ]
    }
   ],
   "source": [
    "from scipy.spatial import distance\n",
    "print(distance.euclidean([1,0,0], [0,1,0]))\n",
    "print(distance.euclidean([1,1,0], [0,1,0]))\n",
    "\n",
    "print(distance.hamming([1,0,0], [0,1,0]))\n",
    "print(distance.hamming([1,0,0], [1,1,0]))\n",
    "print(distance.hamming([1,0,0], [2,0,0]))\n",
    "print(distance.hamming([1,0,0], [3,0,0]))\n",
    "\n",
    "print(distance.cosine([1,0,0], [0,1,0]))\n",
    "print(distance.cosine([1,0,0], [1,1,0]))\n",
    "print(distance.cosine([100,0,0], [0,1,0]))"
   ]
  },
  {
   "cell_type": "markdown",
   "id": "preliminary-phoenix",
   "metadata": {},
   "source": [
    "1. 용어 정리\n",
    "- Problem : 바라는 것(ideal)과 인식하는 것(reality) 간의 차이\n",
    "    - initial state === intermediate states(decisions) ===> terminal state\n",
    "- computation : well-defined model(algorithm), finite loop\n",
    "    - 수학 문제 : axiom(공리) 를 바탕으로 한 theorem(정리)를 이용하고 그 사이 간격만 axiom으로 채움\n",
    "    - 프로그래밍 : library를 이용하고 output과 input 사이의 연결고리를 채움\n",
    "- 기존 programming algorithm(deductive process) : 모든 combination을 고려\n",
    "- machine learning(inductive process) : 모든 combination 고려를 포기\n",
    "- decision problem : constraint bound 가 정해져있고 그 안에서 조건을 만족하면 풀었다\n",
    "- optimization problem : constraint bound를 줄여가면서 가능할때 까지 decision problem"
   ]
  },
  {
   "cell_type": "markdown",
   "id": "exotic-times",
   "metadata": {},
   "source": [
    "2. Constraints\n",
    "    - objective 에 따라 constraints 가 달라짐\n",
    "    - minimize x $f(x)$  // subject to $g_i(x) <= 0, h_i(x) = 0 $\n",
    "    - goal은 performance / cost는 다양(budget, security, training time, power, CO2..)"
   ]
  },
  {
   "cell_type": "markdown",
   "id": "brief-immune",
   "metadata": {},
   "source": []
  },
  {
   "cell_type": "markdown",
   "id": "decreased-navigator",
   "metadata": {},
   "source": []
  },
  {
   "cell_type": "markdown",
   "id": "endangered-dancing",
   "metadata": {},
   "source": []
  },
  {
   "cell_type": "markdown",
   "id": "derived-situation",
   "metadata": {},
   "source": []
  },
  {
   "cell_type": "code",
   "execution_count": null,
   "id": "existing-timeline",
   "metadata": {},
   "outputs": [],
   "source": []
  }
 ],
 "metadata": {
  "kernelspec": {
   "display_name": "Python 3",
   "language": "python",
   "name": "python3"
  },
  "language_info": {
   "codemirror_mode": {
    "name": "ipython",
    "version": 3
   },
   "file_extension": ".py",
   "mimetype": "text/x-python",
   "name": "python",
   "nbconvert_exporter": "python",
   "pygments_lexer": "ipython3",
   "version": "3.6.12"
  }
 },
 "nbformat": 4,
 "nbformat_minor": 5
}
