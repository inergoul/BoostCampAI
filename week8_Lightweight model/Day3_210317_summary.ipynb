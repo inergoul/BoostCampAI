{
 "cells": [
  {
   "cell_type": "markdown",
   "id": "laughing-jersey",
   "metadata": {},
   "source": [
    "#### Lecture 1. Acceleration"
   ]
  },
  {
   "cell_type": "markdown",
   "id": "comfortable-minnesota",
   "metadata": {},
   "source": [
    "- High-level IR --- DL compiler --- Low-level IR"
   ]
  },
  {
   "cell_type": "markdown",
   "id": "fitted-movie",
   "metadata": {},
   "source": [
    "#### mini code : list operations"
   ]
  },
  {
   "cell_type": "code",
   "execution_count": 1,
   "id": "turkish-stamp",
   "metadata": {},
   "outputs": [
    {
     "name": "stdout",
     "output_type": "stream",
     "text": [
      "0.6235 seconds\n"
     ]
    }
   ],
   "source": [
    "import numpy as np\n",
    "import time\n",
    "size = 1000000\n",
    "lst = range(size)\n",
    "t1 = time.time()\n",
    "result_list = [(a*b) for a,b in zip(lst, lst)]\n",
    "print(round(time.time() - t1, 4), \"seconds\")"
   ]
  },
  {
   "cell_type": "code",
   "execution_count": 3,
   "id": "earlier-hometown",
   "metadata": {},
   "outputs": [
    {
     "name": "stdout",
     "output_type": "stream",
     "text": [
      "0.0065 seconds\n"
     ]
    },
    {
     "data": {
      "text/plain": [
       "dtype('int32')"
      ]
     },
     "execution_count": 3,
     "metadata": {},
     "output_type": "execute_result"
    }
   ],
   "source": [
    "array = np.arange(size)\n",
    "t1 = time.time()\n",
    "result_array = array * array\n",
    "print(round(time.time() - t1, 4), \"seconds\")\n",
    "array.dtype"
   ]
  },
  {
   "cell_type": "markdown",
   "id": "essential-feelings",
   "metadata": {},
   "source": [
    "1. Acceleration\n",
    "- python list vs numpy array\n",
    "    - python list : 다른 data type을 가질 수 있음, element를 object로 저장\n",
    "    - numpy array : densely packed in memory, C 언어로 함수 구현, 병렬 처리 가능\n",
    "- python(interpreted language) vs C(compiled language)\n",
    "- information transmission : 병목 현상 해결에 중점\n",
    "- CPU design\n",
    "    - bandwidth : data가 전송될 수 있는 capacity 개념\n",
    "    - latency : packet이 network를 통과하는 데 걸리는 시간\n",
    "    - throughput : data가 실제로 전송되는 양\n",
    "\n",
    "2. Chip\n",
    "- hardware acceleration : 특정 function에 대하여 일반적인 CPU보다 잘 수행하도록(latency 감소, throughput 증가) hardware 개선\n",
    "    - ex) GPU(Graphic Processing Unit) / TPU(Tensor Processing Unit)\n",
    "    - GPU : high compute density, parallel operations, high throughput\n",
    "- ARM on IoT device\n",
    "- SoC (System on Chip)\n",
    "\n",
    "3. Compression & acceleration\n",
    "- compression : space complexity(software) & acceleration : time complexity(hardware)\n",
    "- hardware 설계 >> software 구현 >> compile 번역 >> user 입력 >> 실행 >> 출력 후 대기\n",
    "\n",
    "4. Deep learning compiler\n",
    "- HIgh level lanuage -(compiler)-> Assembly language -(assembler)-> machine language\n",
    "- compiler 종류 : XLA(google), TVM(amazon), GLOW(facebook), ONNC\n",
    "- MLIR - compiler를 여러가지 hardware 상황에 맞게 적용하는 부담을 줄여줌\n",
    "- locality of reference\n",
    "- hardware-aware compression\n"
   ]
  },
  {
   "cell_type": "markdown",
   "id": "prerequisite-lightning",
   "metadata": {},
   "source": [
    "#### Lecture 2. Pruning"
   ]
  },
  {
   "cell_type": "markdown",
   "id": "forbidden-albany",
   "metadata": {},
   "source": [
    "#### mini code : Masking"
   ]
  },
  {
   "cell_type": "code",
   "execution_count": 13,
   "id": "conceptual-cocktail",
   "metadata": {},
   "outputs": [
    {
     "name": "stdout",
     "output_type": "stream",
     "text": [
      "vec1: [0.1   0.325 0.55  0.775 1.   ]\n",
      "array: [0.1 0.325 0.55 -- 1.0]\n",
      "masked_array: [0.1 0.325 0.55 -- 1.0]\n",
      "masked_outside: [-- 0.325 0.55 0.775 --] \n",
      "\n",
      "vec2: [0, 1, 2, 3, 4, -9999]\n",
      "masked_values: [0 1 2 3 4 --]\n",
      "masked_values: [0 1 2 -- 4 -9999]\n",
      "masked_values & filled: [   0    1    2    3    4 5555]\n"
     ]
    }
   ],
   "source": [
    "import numpy as np\n",
    "from numpy.ma import array, masked_array, masked_values, masked_outside\n",
    "\n",
    "vec1 = np.round(np.linspace(0.1, 1, 5), 3)\n",
    "print('vec1:', vec1)\n",
    "print('array:', array(vec1, mask = [0, 0, 0, 1, 0]))\n",
    "print('masked_array:', masked_array(np.array(vec1), mask = [0, 0, 0, 1, 0]))\n",
    "print('masked_outside:', masked_outside(vec1, 0.2, 0.9), '\\n')\n",
    "\n",
    "vec2 = [0, 1, 2, 3, 4, -9999]\n",
    "print('vec2:', vec2)\n",
    "print('masked_values:', masked_values(vec2, -9999))\n",
    "print('masked_values:', masked_values(vec2, 3))\n",
    "print('masked_values & filled:', masked_values(vec2, -9999).filled(5555))"
   ]
  },
  {
   "cell_type": "markdown",
   "id": "renewable-spectrum",
   "metadata": {},
   "source": [
    "1. Weighted sum\n",
    "- decision theory : weighted sum model(WSM)\n",
    "- cross-entropy 도 weighted sum\n",
    "\n",
    "2. Pruning 개념\n",
    "- neuron 간 시냅스 연결의 일부를 잘라내는 것\n",
    "- 얻는 것 : speed, 일반화 성능 / 잃는 것 : 정보 손실, hardware 메모리 적재 시 효율\n",
    "- DL 에서 node 의 일부를 없앰 (drop out과 유사)\n",
    "- dropout은 한번 잘라낸 weight를 재활용하는 과정을 random으로 반복하여 ensemble 효과를 주는 반면 pruning 에서는 inference time 에 복원하지 않음\n",
    "- 가장 덜 중요한 neuron을 제거하고 fine-tuning 하는 과정을 반복\n",
    "- pruning 이 가중치를 제거하는 방식이므로 L1, L2 regularization에 영향을 줌\n",
    "\n",
    "3. Pruning 예\n",
    "- 언제 : training 전 / 중 /후\n",
    "- 방법 : weight 크기순, gradient-based, information-based\n",
    "- 무엇을 : structured(channel, kernel, layer 기준) / unstructured(random weight 제거)\n",
    "- iterative pruning - weight resetting / continued training\n",
    "\n",
    "4. Lottery ticket hypothesis\n",
    "- 랜덤하게 초기화된 dense NN 이 같은 학습 횟수안에 동일한 정확도를 갖는 sub-network가 존재할 것이라는 가설, 애초에 원래 모델을 학습 시켜야 비교군이 생긴다는 한계\n",
    "- iterative magnitude pruning with rewinding"
   ]
  },
  {
   "cell_type": "markdown",
   "id": "entitled-italy",
   "metadata": {},
   "source": [
    "##### toy code\n",
    "- pytorch에서는 pruning 시 원래의 가중치를 보관하고 있으면서 mask 행렬곱으로 pruning 을 구현하므로 size가 더 커지게 된다. 원래의 가중치가 필요없어지면 remove 명령어를 수행하면 mask와 원래의 가중치가 사라지고 mask 가 적용된 가중치로 변환됨"
   ]
  },
  {
   "cell_type": "markdown",
   "id": "amazing-kernel",
   "metadata": {},
   "source": []
  },
  {
   "cell_type": "markdown",
   "id": "residential-webster",
   "metadata": {},
   "source": []
  },
  {
   "cell_type": "code",
   "execution_count": null,
   "id": "devoted-blues",
   "metadata": {},
   "outputs": [],
   "source": []
  }
 ],
 "metadata": {
  "kernelspec": {
   "display_name": "Python 3",
   "language": "python",
   "name": "python3"
  },
  "language_info": {
   "codemirror_mode": {
    "name": "ipython",
    "version": 3
   },
   "file_extension": ".py",
   "mimetype": "text/x-python",
   "name": "python",
   "nbconvert_exporter": "python",
   "pygments_lexer": "ipython3",
   "version": "3.6.12"
  }
 },
 "nbformat": 4,
 "nbformat_minor": 5
}
