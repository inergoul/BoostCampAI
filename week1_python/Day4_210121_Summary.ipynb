{
 "cells": [
  {
   "cell_type": "markdown",
   "id": "surrounded-cheese",
   "metadata": {},
   "source": [
    "#### Lecture1. Object Oriented Programming"
   ]
  },
  {
   "cell_type": "markdown",
   "id": "friendly-drama",
   "metadata": {},
   "source": [
    "Object-Oriented Programming, OOP(파이썬)\n",
    "- 객체 : 실생활에서 일종의 물건\n",
    "    - 속성(Attribute) + 행동(Action)\n",
    "    - 속성은 변수(variable), 행동은 함수(method)로 표현됨\n",
    "- 설계도(class) + 구현체(instance)로 나눔\n",
    "\n",
    "python naming rule\n",
    "- snake_case : 띄어쓰기 부분에 \"\\_\" 추가, 함수/변수 명\n",
    "- CamelCase : 띄어쓰기 부분에 대문자 사용, 클래스 명\n",
    "- \\__ 는 특수한 예약함수, 변수, 함수명 변경(맨글링)으로 사용"
   ]
  },
  {
   "cell_type": "code",
   "execution_count": 6,
   "id": "differential-trunk",
   "metadata": {},
   "outputs": [
    {
     "name": "stdout",
     "output_type": "stream",
     "text": [
      "Hello, My name is son. My back number is 7\n",
      "son 등번호 변경 : From 7 to 10\n"
     ]
    }
   ],
   "source": [
    "class SoccerPlayer(object):\n",
    "    def __init__(self, name, position, back_number):\n",
    "        self.name = name  # self : 생성된 인스턴스 자신\n",
    "        self.position = position\n",
    "        self.back_number = back_number\n",
    "        \n",
    "    def __str__(self): # print문 출력 리턴 정보\n",
    "        return \"Hello, My name is %s. My back number is %d\" %\\\n",
    "                (self.name, self.back_number)\n",
    "    \n",
    "    def change_back_number(self, new_number):\n",
    "        print(\"%s 등번호 변경 : From %d to %d\"%\\\n",
    "             (self.name, self.back_number, new_number))\n",
    "        self.back_number = new_number\n",
    "             \n",
    "son = SoccerPlayer(\"son\", \"FW\", 7)\n",
    "park = SoccerPlayer(\"park\", \"MF\", 14)\n",
    "print(son)\n",
    "son.change_back_number(10)"
   ]
  },
  {
   "cell_type": "markdown",
   "id": "hawaiian-merchandise",
   "metadata": {},
   "source": [
    "객체 지향 언어의 특징\n",
    "- Interitance(상속) : 부모 클래스의 속성과 method를 물려받은 자식클래스 생성\n",
    "- Polymorphism(다형성) : 같은 이름 메소드의 내부 로직을 다르게 작성\n",
    "- Visibility(가시성) : 캡슐화, 정보은닉, 인터페이스만 알아서 쓰도록"
   ]
  },
  {
   "cell_type": "code",
   "execution_count": 12,
   "id": "ethical-yorkshire",
   "metadata": {},
   "outputs": [],
   "source": [
    "class Product:\n",
    "    pass\n",
    "class Inventory():\n",
    "    def __init__(self):\n",
    "        self.items = []\n",
    "        self.test = 'abc'\n",
    "        \n",
    "    def add_new_item(self, product):\n",
    "        if type(product) == Product:\n",
    "            self.items.append(product)\n",
    "            print(\"new item added\")\n",
    "        else:\n",
    "            raise ValueError(\"Invalid item\")\n",
    "    def get_number_of_items(self):\n",
    "        return len(self.items)"
   ]
  },
  {
   "cell_type": "code",
   "execution_count": 15,
   "id": "immediate-possibility",
   "metadata": {
    "scrolled": true
   },
   "outputs": [
    {
     "name": "stdout",
     "output_type": "stream",
     "text": [
      "new item added\n",
      "new item added\n",
      "2\n",
      "3\n"
     ]
    }
   ],
   "source": [
    "my_inventory = Inventory()\n",
    "my_inventory.add_new_item(Product())\n",
    "my_inventory.add_new_item(Product())\n",
    "print(my_inventory.get_number_of_items())\n",
    "my_inventory.items.append(\"abc\") # 속성에 직접 접근 가능\n",
    "print(my_inventory.get_number_of_items()) "
   ]
  },
  {
   "cell_type": "code",
   "execution_count": 28,
   "id": "piano-yellow",
   "metadata": {},
   "outputs": [],
   "source": [
    "class Product:\n",
    "    pass\n",
    "class Inventory():\n",
    "    def __init__(self):\n",
    "        self.__items = [] # mangling 으로 타언어의 private 구현\n",
    "    def add_new_item(self, product):\n",
    "        if type(product) == Product:\n",
    "            self.__items.append(product)\n",
    "            print(\"new item added\")\n",
    "        else:\n",
    "            raise ValueError(\"Invalid item\")\n",
    "    @property # property decorator : 숨겨진 변수 반환\n",
    "    def items(self):\n",
    "        return self.__items\n",
    "    \n",
    "    def get_number_of_items(self):\n",
    "        return len(self.__items)"
   ]
  },
  {
   "cell_type": "code",
   "execution_count": 30,
   "id": "naughty-uncle",
   "metadata": {
    "scrolled": true
   },
   "outputs": [
    {
     "name": "stdout",
     "output_type": "stream",
     "text": [
      "new item added\n",
      "1\n",
      "2\n",
      "3\n"
     ]
    }
   ],
   "source": [
    "my_inventory = Inventory()\n",
    "my_inventory.add_new_item(Product())\n",
    "print(my_inventory.get_number_of_items())\n",
    "# my_inventory.__items.append(\"abc\") # attribute error 발생\n",
    "my_inventory._Inventory__items.append(\"abc\") # 마음먹으면 접근/수정 가능\n",
    "print(my_inventory.get_number_of_items()) \n",
    "\n",
    "items = my_inventory.items # 함수를 변수처럼 호출가능\n",
    "items.append(Product())\n",
    "print(my_inventory.get_number_of_items())"
   ]
  },
  {
   "cell_type": "markdown",
   "id": "descending-collection",
   "metadata": {},
   "source": [
    "first-class objects(일급객체)\n",
    "- 변수나 데이터 구조에 할당이 가능, parameter로 전달 또는 return값 사용 가능\n",
    "- 파이썬 함수는 일급함수\n",
    "\n",
    "inner function(내부 함수)\n",
    "- 함수 내에 또다른 함수가 존재\n",
    "- closures : inner function을 return값으로 반환\n",
    "\n",
    "decorator function\n",
    "- 복잡한 클로져 함수를 간단하게"
   ]
  },
  {
   "cell_type": "code",
   "execution_count": 41,
   "id": "narrative-albert",
   "metadata": {},
   "outputs": [
    {
     "name": "stdout",
     "output_type": "stream",
     "text": [
      "<function tag_func.<locals>.inner_func at 0x000001925631DDC0>\n"
     ]
    }
   ],
   "source": [
    "def tag_func(tag, text):\n",
    "    text = text\n",
    "    tag = tag\n",
    "    def inner_func():\n",
    "        return '<{0}>{1}<{0}>'.format(tag,text)\n",
    "    return inner_func\n",
    "h1_func = tag_func('title', 'this is Python class')"
   ]
  },
  {
   "cell_type": "code",
   "execution_count": 46,
   "id": "civilian-margin",
   "metadata": {},
   "outputs": [
    {
     "name": "stdout",
     "output_type": "stream",
     "text": [
      "&&&&&&&&&&&&&&&&&&&&&&&&&&&&&&\n",
      "hello\n",
      "&&&&&&&&&&&&&&&&&&&&&&&&&&&&&&\n"
     ]
    }
   ],
   "source": [
    "def star(func):\n",
    "    def inner(*args, **kwargs):\n",
    "        print(args[1] * 30)\n",
    "        func(*args, **kwargs)\n",
    "        print(args[1] * 30)\n",
    "    return inner\n",
    "\n",
    "@star\n",
    "def printer(msg, mark):\n",
    "    print(msg)\n",
    "printer(\"hello\", \"&\")"
   ]
  },
  {
   "cell_type": "markdown",
   "id": "inside-outreach",
   "metadata": {},
   "source": [
    "#### Lecture 2. Module and Project"
   ]
  },
  {
   "cell_type": "markdown",
   "id": "limiting-subdivision",
   "metadata": {},
   "source": [
    "Module : 어떤 대상의 부분 혹은 조각\n",
    "- import문 : 모듈 불러오기, \n",
    "- pycache 생성(파일을 메모리에 로딩하는 걸 더 빠르게 하기위해 컴파일)\n",
    "\n",
    "Namespace : 파일에서 필요한 내용만 메모리에 로드하기 위해 범위 정하기\n",
    "- Alias(별칭 as) 사용, from a import b, from a import *\n",
    "- Alias 권장 (코드의 출처가 표시됨)"
   ]
  },
  {
   "cell_type": "markdown",
   "id": "sealed-format",
   "metadata": {},
   "source": [
    "Built-in Module(내장 모듈)"
   ]
  },
  {
   "cell_type": "code",
   "execution_count": 49,
   "id": "classified-experiment",
   "metadata": {},
   "outputs": [
    {
     "name": "stdout",
     "output_type": "stream",
     "text": [
      "94\n",
      "time.struct_time(tm_year=2021, tm_mon=1, tm_mday=21, tm_hour=12, tm_min=2, tm_sec=58, tm_wday=3, tm_yday=21, tm_isdst=0)\n"
     ]
    }
   ],
   "source": [
    "import random, time, urllib.request\n",
    "print(random.randint(0, 100))\n",
    "print(time.localtime())\n",
    "response = urllib.request.urlopen(\"http://theteamlab.io\")\n",
    "# print(response.read())"
   ]
  },
  {
   "cell_type": "markdown",
   "id": "played-ethics",
   "metadata": {},
   "source": [
    "Package : 모듈을 모아놓은 단위, 하나의 프로그램\n",
    "- 기능별로 모아 폴더를 만들고 폴더별로 필요한 모듈을 구현함\n",
    "- \\_\\_init.py 필요 (python 3.3 이후부터는 상관없음)\n",
    "- \\* 사용을 위해 \\_\\_init\\_\\_.py에서 \\_\\_all\\_\\_ = \\[* 에 해당하는 파일\\] 할당\n",
    "- 파이썬 패키지를 폴더 단위로 실행시키면 \\_\\_main\\_\\_.py 가 실행됨\n",
    "- . : 현재 폴더, .. : 상위 폴더"
   ]
  },
  {
   "cell_type": "markdown",
   "id": "young-adjustment",
   "metadata": {},
   "source": [
    "Python Virtual Environment\n",
    "- 프로젝트 진행 시 필요 패키지만 설치하는 환경\n",
    "- virtualenv + pip / conda(windows에서 강점)"
   ]
  },
  {
   "cell_type": "markdown",
   "id": "sudden-correlation",
   "metadata": {},
   "source": [
    "#### Peer Session\n"
   ]
  },
  {
   "cell_type": "markdown",
   "id": "grateful-three",
   "metadata": {},
   "source": [
    "수업 쟁점\n",
    "- 파이썬에서의 다형성 구현 방식(overloading 은 일어나는가)\n",
    "- \\_\\_item() 사용 이유 및 타 언어 private 과의 비교\n",
    "- decorator 구조 및 인자 전달 방식\n",
    "\n",
    "Code Review : 다리를 지나는 트럭\n",
    "- list.pop(0) : 시간복잡도 O(n)\n",
    "- deque.popleft() : 시간복잡도 O(1)\n",
    "- 변수를 무엇으로 잡을지가 코드의 형태를 결정\n",
    "\n",
    "차주 모더레이터\n",
    "- 이애나 님"
   ]
  }
 ],
 "metadata": {
  "kernelspec": {
   "display_name": "Python 3",
   "language": "python",
   "name": "python3"
  },
  "language_info": {
   "codemirror_mode": {
    "name": "ipython",
    "version": 3
   },
   "file_extension": ".py",
   "mimetype": "text/x-python",
   "name": "python",
   "nbconvert_exporter": "python",
   "pygments_lexer": "ipython3",
   "version": "3.8.5"
  }
 },
 "nbformat": 4,
 "nbformat_minor": 5
}
