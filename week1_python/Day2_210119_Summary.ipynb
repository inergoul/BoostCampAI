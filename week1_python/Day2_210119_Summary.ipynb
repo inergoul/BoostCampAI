{
 "cells": [
  {
   "cell_type": "markdown",
   "id": "medium-climate",
   "metadata": {},
   "source": [
    "#### [Day2]\n",
    "##### Lecture1. Variables"
   ]
  },
  {
   "cell_type": "markdown",
   "id": "equipped-lending",
   "metadata": {},
   "source": [
    "- 변수 : 가장 기초적인 프로그래밍 문법\n",
    "- 데이터(값)을 저장하기 위한 메모리 공간의 이름\n",
    "    - p = 5  : p라는 변수에 5라는 값을 넣어라\n",
    "    - 변수의 의미: 값을 저장하는 장소로, 메모리 주소를 가짐\n",
    "    - 컴퓨터(폰노이만 아키텍처) - 정보를 메모리에 저장, CPU가 순차적으로 해석, 계산\n",
    "    - 선언되는 순간 메모리 특정 영역에 물리적인 공간이 할당됨\n",
    "- 작명법\n",
    "    - 알파벳, 숫자, 언더스코어(\\_)로 선언 가능\n",
    "    - 변수명은 의미있는 단어로 표기\n",
    "    - 대소문자 구분됨, 예약어는 쓰지 않는다(for, else 등)\n",
    "- 기본자료형 (**dynamic typing** : 실행 시점에 타입 결정)\n",
    "    - 수치자료형\n",
    "        + 정수형(integer)\n",
    "        + 실수형(float) : 정수에 소수점을 찍어서 할당\n",
    "    - 문자형(string) : \" \", ' ' 로 할당\n",
    "    - 논리 자료형(boolean) : True / False\n",
    "- 연산자 ( ** 제곱, % 나머지, += 증가연산 )\n",
    "- 형변환 : a = 10 (int) / float(a) (float, a 자체는 아직 int)\n",
    "    - 실수형 >> 정수형 시에는 내림 ( int(10.2) = 10 )\n",
    "- 컴퓨터의 반올림 오차 : 0.1을 이진수 변환 시 무한소수(0.0001100110011..)\n",
    "- List : sequence 자료형(여러 데이터들의 집합)\n",
    "    - indexing : list 값들이 주소(offset)를 가짐, 주소로 호출 가능\n",
    "    - slicing : list의 주소값을 기반으로 부분값 반환\n",
    "    - list연산 : +, *, in, extend(), append(), remove(), del\n",
    "    - 다양한 데이터 타입을 리스트 각각의 원소로 가질 수 있음\n",
    "    - 리스트 변수에는 리스트 주소값이 저장됨\n",
    "    - packing / unpacking"
   ]
  },
  {
   "cell_type": "code",
   "execution_count": 1,
   "id": "uniform-insight",
   "metadata": {
    "scrolled": true
   },
   "outputs": [
    {
     "name": "stdout",
     "output_type": "stream",
     "text": [
      "['대구', '인천', '광주']\n",
      "['서울', '부산', '대전', '대구', '인천'] And ['대전', '대구', '인천', '광주', '울산', '수원']\n",
      "['수원', '울산', '광주', '인천', '대구', '대전', '부산', '서울']\n",
      "['부산', '대구', '광주', '수원']\n"
     ]
    }
   ],
   "source": [
    "# list slicing 예제\n",
    "cities = ['서울', '부산', '대전', '대구', '인천', '광주', '울산', '수원']\n",
    "print(cities[3:6])\n",
    "print(cities[0:5], \"And\", cities[-6:])\n",
    "print(cities[::-1])\n",
    "print(cities[1:8:2])"
   ]
  },
  {
   "cell_type": "code",
   "execution_count": 2,
   "id": "duplicate-baptist",
   "metadata": {},
   "outputs": [
    {
     "name": "stdout",
     "output_type": "stream",
     "text": [
      "[1, 2, 3, 4, 5]\n",
      "[1, 2, 3, 4, 5]\n",
      "[5, 4, 3, 2, 1]\n"
     ]
    }
   ],
   "source": [
    "# copy\n",
    "a = [5,4,3,2,1]\n",
    "b = a\n",
    "c = a[:]\n",
    "a.sort()\n",
    "print(a)\n",
    "print(b)\n",
    "print(c)\n",
    "# 2차원 행렬의 경우는 deepcopy가 유용"
   ]
  },
  {
   "cell_type": "markdown",
   "id": "approximate-finding",
   "metadata": {},
   "source": [
    "##### Lecture2. Function and Console I/O"
   ]
  },
  {
   "cell_type": "markdown",
   "id": "blessed-segment",
   "metadata": {},
   "source": [
    "함수 : 어떤 일을 수행하는 코드 덩어리 ( 함수(입력값) => 출력 )\n",
    "\n",
    "    - 반복적인 수행을 1회만 작성 후 호출\n",
    "    - 코드를 논리적인 단위로 분리(코드 = 보고서)\n",
    "    - 캡슐화 : 인터페이스만 되있으면 재사용 용이\n",
    "\n",
    "+ 함수 선언 - 함수 이름, parameter, indentation, return value\n",
    "\n",
    "+ 함수 수행 순서 - 메인 프로그램부터 시작하여 호출시 함수 수행후 이어서 계속\n",
    "+ parameter : 함수의 입력 값 인터페이스\n",
    "+ argument : 실제 parameter에 대입된 값\n",
    "+ return : 반환값\n"
   ]
  },
  {
   "cell_type": "code",
   "execution_count": 6,
   "id": "announced-values",
   "metadata": {},
   "outputs": [
    {
     "name": "stdout",
     "output_type": "stream",
     "text": [
      "[1, 2, 3, 4, 5]\n"
     ]
    },
    {
     "data": {
      "text/plain": [
       "[5, 4, 3, 2, 1]"
      ]
     },
     "execution_count": 6,
     "metadata": {},
     "output_type": "execute_result"
    }
   ],
   "source": [
    "# 반환문이 있는 함수와 없는 함수\n",
    "list1 = [5,4,3,2,1]\n",
    "print(sorted(list1))\n",
    "list1"
   ]
  },
  {
   "cell_type": "code",
   "execution_count": 8,
   "id": "multiple-allen",
   "metadata": {},
   "outputs": [
    {
     "name": "stdout",
     "output_type": "stream",
     "text": [
      "None\n"
     ]
    },
    {
     "data": {
      "text/plain": [
       "[1, 2, 3, 4, 5]"
      ]
     },
     "execution_count": 8,
     "metadata": {},
     "output_type": "execute_result"
    }
   ],
   "source": [
    "list1 = [5,4,3,2,1]\n",
    "print(list1.sort())\n",
    "list1"
   ]
  },
  {
   "cell_type": "markdown",
   "id": "simple-durham",
   "metadata": {},
   "source": [
    "Console I/O : Input() / print()\n",
    "print formatting\n",
    "1. %string\n",
    "2. format()\n",
    "3. fstring"
   ]
  },
  {
   "cell_type": "code",
   "execution_count": 18,
   "id": "romantic-somewhere",
   "metadata": {},
   "outputs": [
    {
     "name": "stdout",
     "output_type": "stream",
     "text": [
      "one two\n",
      "three four\n",
      "I eat five apples.\n",
      "I eat 3 apples.\n",
      "Art:   453, Price per Unit:    59.06\n",
      "My name is jin and 35 years old.\n",
      "Product: apple     , Price per unit:      5.322.\n",
      "Hello, ^^^^^^^^^^^^^^^^^jin. I am 35\n"
     ]
    }
   ],
   "source": [
    "print('%s %s' % ('one', 'two'))\n",
    "print('{} {}'.format('three', 'four'))\n",
    "print(\"I eat %s apples.\" % 'five')\n",
    "print(\"I eat %d apples.\" % 3)\n",
    "print(\"Art: %5d, Price per Unit: %8.2f\" % (453, 59.058))\n",
    "name = \"jin\"; age = 35\n",
    "print(\"My name is {0} and {1} years old.\".format(name, age))\n",
    "print(\"Product: {0:<10s}, Price per unit: {1:10.3f}.\".format(\"apple\", 5.3225))\n",
    "print(f\"Hello, {name:^>20}. I am {age}\")"
   ]
  },
  {
   "cell_type": "markdown",
   "id": "outstanding-better",
   "metadata": {},
   "source": [
    "##### Lecture3. Conditionals and Loops"
   ]
  },
  {
   "cell_type": "markdown",
   "id": "particular-morocco",
   "metadata": {},
   "source": [
    "Condition(조건문) : 조건에 따라 특정한 동작을 하게하는 명령어 (조건 기준 + 실행 명령)\n",
    "+ if-else 문\n",
    "    + 비교연산자  == : 값 비교 / is : 메모리 주소 비교\n",
    "    + 존재하면 True / 아니면 False\n",
    "    + 논리연산자 and, or, not, all, any\n",
    "    + elif : else+if 기능"
   ]
  },
  {
   "cell_type": "code",
   "execution_count": 21,
   "id": "naval-treaty",
   "metadata": {},
   "outputs": [
    {
     "name": "stdout",
     "output_type": "stream",
     "text": [
      "True\n",
      "False\n"
     ]
    }
   ],
   "source": [
    "a = 256\n",
    "b = 256\n",
    "print(a is b)\n",
    "# -5 ~ 256 까지는 정적메모리를 잡아놓고 거기에 할당\n",
    "# 그 이외 범위에서는 다른 메모리 주소를 생성하여 할당\n",
    "a = 257\n",
    "b = 257\n",
    "print(a is b)"
   ]
  },
  {
   "cell_type": "code",
   "execution_count": 25,
   "id": "anticipated-eclipse",
   "metadata": {},
   "outputs": [
    {
     "name": "stdout",
     "output_type": "stream",
     "text": [
      "False\n"
     ]
    },
    {
     "data": {
      "text/plain": [
       "True"
      ]
     },
     "execution_count": 25,
     "metadata": {},
     "output_type": "execute_result"
    }
   ],
   "source": [
    "boolean_list = [True, False, True, False, False]\n",
    "print(all(boolean_list))\n",
    "any(boolean_list)"
   ]
  },
  {
   "cell_type": "code",
   "execution_count": 27,
   "id": "simplified-african",
   "metadata": {},
   "outputs": [
    {
     "name": "stdout",
     "output_type": "stream",
     "text": [
      "True\n"
     ]
    }
   ],
   "source": [
    "value = 12\n",
    "is_even = True if value % 2 == 0 else False\n",
    "print(is_even)"
   ]
  },
  {
   "cell_type": "markdown",
   "id": "differential-raising",
   "metadata": {},
   "source": [
    "Loop(반복문) : 정해진 동작을 반복적으로 수행하게 하는 명령문\n",
    "\n",
    "+ 변수명 관례 : i,j,k\n",
    "+ 주로 0부터 시작\n",
    "+ 무한 loop 만들지 않도록 주의\n",
    "+ for loop : 반복 범위를 지정하여 반복문 수행\n",
    "    + range() : range(a, b) \\[a~b-1\\]\n",
    "+ while loop : 조건이 만족하는 동안 반복문 수행\n",
    "    + 반복 실행 횟수가 명확하지 않을 때 사용\n",
    "+ break(반복문 종료) / continue(이후 문장 실행하지 않고 skip 후 반복문 진행)\n",
    "+ for-else : for 문 종료되면 else 문 실행(단, break로 끝나면 수행하지 않음)\n",
    "+ loop에 print를 삽입하여 검사 가능 (Debugging Loop)\n",
    "+ nested loop(중첩 반복문) : 구구단, 숫자게임"
   ]
  },
  {
   "cell_type": "markdown",
   "id": "nuclear-skating",
   "metadata": {},
   "source": [
    "Debugging : 코드의 오류를 발견하여 수정하는 과정\n",
    "- 문법적 에러 : error 메세지 분석\n",
    "- 논리적 오류 : main() 함수나 간단 실행 가능한 코드로 확인\n",
    "\n",
    "    - \\_\\_import\\_\\_main\\_\\_import\\_\\_: 문으로 묶어서 처리하면 모듈 호출시 실행되는 것 정리 가능\n",
    "+ Google + StackOverFlow 로 모르는 것 검색"
   ]
  },
  {
   "cell_type": "markdown",
   "id": "nuclear-cross",
   "metadata": {},
   "source": [
    "##### Lecture4. String and advanced function condept"
   ]
  },
  {
   "cell_type": "markdown",
   "id": "dramatic-version",
   "metadata": {},
   "source": [
    "문자열(string) : sequence 자료형, 영문자 1글자 = 1byte 차지\n",
    "\n",
    "+ 1bit : 0또는 1 / 1byte = 2^8(256)bit, 문자를 숫자로 반환하는 규칙 존재\n",
    "+ int : 4byte, long : 무제한, float : 8byte\n",
    "+ 문자열 특징 : list처럼 주소값을 기반으로 slicing 가능\n",
    "+ 범위를 넘어가도 자동적으로 지정\n",
    "+ 문자열 표현 방법과 함수들 숙지\n",
    "+ raw string = r' string \\n\\'  특수문자 안먹힘\n",
    "    \n",
    "함수 호출 방식\n",
    "\n",
    "- Call by value : 함수 내에 인자 값 변경시 호출자에게 영향 X (값만 넘김)\n",
    "- Call by reference : 함수 내에 인자 값 변경시 호출자 값도 변경 (메모리 주소 넘김)\n",
    "- Call by object reference(파이썬)\n",
    "    -  객체의 주소가 함수로 전달\n",
    "    -  전달된 객체를 참조하여 변경시 호출자에게 영향, 새로운 객체는 영향 없음\n"
   ]
  },
  {
   "cell_type": "code",
   "execution_count": 4,
   "id": "scheduled-style",
   "metadata": {},
   "outputs": [
    {
     "name": "stdout",
     "output_type": "stream",
     "text": [
      "[2, 3]\n",
      "[0, 1]\n"
     ]
    }
   ],
   "source": [
    "def spam(eggs):\n",
    "    eggs.append(1)# 기존 객체에 추가\n",
    "    eggs = [2,3] # 새로운 객체 생성\n",
    "    print(eggs)\n",
    "ham = [0]\n",
    "spam(ham)\n",
    "print(ham)"
   ]
  },
  {
   "cell_type": "code",
   "execution_count": 6,
   "id": "southeast-combining",
   "metadata": {},
   "outputs": [
    {
     "data": {
      "text/plain": [
       "[1, 2, 3, 4, 5]"
      ]
     },
     "execution_count": 6,
     "metadata": {},
     "output_type": "execute_result"
    }
   ],
   "source": [
    "def swap_value(a,b):\n",
    "    temp = a\n",
    "    a = b\n",
    "    b = temp\n",
    "ex = [1,2,3,4,5]\n",
    "swap_value(ex[0], ex[1])\n",
    "ex  "
   ]
  },
  {
   "cell_type": "code",
   "execution_count": 8,
   "id": "wired-savings",
   "metadata": {},
   "outputs": [
    {
     "data": {
      "text/plain": [
       "[2, 1, 3, 4, 5]"
      ]
     },
     "execution_count": 8,
     "metadata": {},
     "output_type": "execute_result"
    }
   ],
   "source": [
    "def swap_offset(offset_x,offset_y):\n",
    "    temp = ex[offset_x] # 함수 밖의 변수를 불러오므로 의미없음\n",
    "    ex[offset_x] = ex[offset_y]\n",
    "    ex[offset_y] = temp\n",
    "ex = [1,2,3,4,5]\n",
    "swap_offset(0, 1)\n",
    "ex  "
   ]
  },
  {
   "cell_type": "code",
   "execution_count": 9,
   "id": "arbitrary-telephone",
   "metadata": {},
   "outputs": [
    {
     "data": {
      "text/plain": [
       "[1, 2, 4, 3, 5]"
      ]
     },
     "execution_count": 9,
     "metadata": {},
     "output_type": "execute_result"
    }
   ],
   "source": [
    "def swap_reference(list_ex, offset_x,offset_y):\n",
    "    # temp_list = list_ex[:]  혼돈을 피하기 위해 권장\n",
    "    temp = list_ex[offset_x]\n",
    "    list_ex[offset_x] = list_ex[offset_y]\n",
    "    list_ex[offset_y] = temp\n",
    "ex = [1,2,3,4,5]\n",
    "swap_reference(ex, 2, 3)\n",
    "ex  "
   ]
  },
  {
   "cell_type": "markdown",
   "id": "assigned-spanking",
   "metadata": {},
   "source": [
    "변수의 범위\n",
    "- 지역변수(local variable) : 함수 내에서 사용\n",
    "- 전역변수(global variable) : 프로그램 전체에서 사용"
   ]
  },
  {
   "cell_type": "code",
   "execution_count": 11,
   "id": "approximate-athletics",
   "metadata": {},
   "outputs": [
    {
     "name": "stdout",
     "output_type": "stream",
     "text": [
      "10\n",
      "in function :  20\n",
      "After :  10\n"
     ]
    }
   ],
   "source": [
    "def test(t):\n",
    "    print(x)\n",
    "    t = 20\n",
    "    print('in function : ', t)\n",
    "x = 10\n",
    "test(x)\n",
    "print('After : ', x)"
   ]
  },
  {
   "cell_type": "code",
   "execution_count": 13,
   "id": "musical-vanilla",
   "metadata": {},
   "outputs": [
    {
     "name": "stdout",
     "output_type": "stream",
     "text": [
      "I love London\n",
      "I love Paris\n"
     ]
    }
   ],
   "source": [
    "def f():\n",
    "    s = 'I love London'\n",
    "    print(s)\n",
    "s = \"I love Paris\"\n",
    "f()\n",
    "print(s)"
   ]
  },
  {
   "cell_type": "code",
   "execution_count": 15,
   "id": "documentary-handling",
   "metadata": {},
   "outputs": [
    {
     "name": "stdout",
     "output_type": "stream",
     "text": [
      "I love London\n",
      "I love London\n"
     ]
    }
   ],
   "source": [
    "def f():\n",
    "    global s\n",
    "    s = 'I love London'\n",
    "    print(s)\n",
    "s = \"I love Paris\"\n",
    "f()\n",
    "print(s)"
   ]
  },
  {
   "cell_type": "markdown",
   "id": "annual-preparation",
   "metadata": {},
   "source": [
    "재귀함수(recursive function)\n",
    "- 자기 자신을 호출하는 함수 (ex factorial)"
   ]
  },
  {
   "cell_type": "code",
   "execution_count": 16,
   "id": "elegant-madness",
   "metadata": {},
   "outputs": [
    {
     "name": "stdout",
     "output_type": "stream",
     "text": [
      "Input Number for Factorial Calculation: 5\n",
      "120\n"
     ]
    }
   ],
   "source": [
    "def factorial(n):\n",
    "    if n == 1:\n",
    "        return 1\n",
    "    else:\n",
    "        return n * factorial(n-1)\n",
    "print(factorial(int(input(\"Input Number for Factorial Calculation: \"))))"
   ]
  },
  {
   "cell_type": "code",
   "execution_count": 20,
   "id": "civilian-boost",
   "metadata": {},
   "outputs": [
    {
     "name": "stdout",
     "output_type": "stream",
     "text": [
      "Input Number for Factorial Calculation: 6\n",
      "720\n"
     ]
    }
   ],
   "source": [
    "def factorial(n):\n",
    "    result = 1\n",
    "    i = 1\n",
    "    while i <= n:\n",
    "        result *= i\n",
    "        i += 1\n",
    "    return result\n",
    "print(factorial(int(input(\"Input Number for Factorial Calculation: \"))))    "
   ]
  },
  {
   "cell_type": "markdown",
   "id": "light-granny",
   "metadata": {},
   "source": [
    "Fuction type hints\n",
    "- PEP484 에 기반하여 type hints 제공(python 3.5 이후)\n",
    "\n",
    "Docstring\n",
    "- 함수명 아래에 \"\"\" 로 목적, parameter, return, example을 적어줌\n",
    "- python docstring generator extension 사용\n",
    "\n",
    "함수 작성 가이드\n",
    "- 가급적 짧게 작성, VO 형식으로 역할과 의도가 드러나도록\n",
    "- 임시변수 사용하여 인자값을 직접 바꾸지 않도록\n",
    "\n",
    "코딩 컨벤션\n",
    "- 마틴파울러 : \"좋은 프로그래머는 사람이 이해할 수 있도록 짠다\"\n",
    "- 코딩은 팀플이다 => 일관성 있게\n",
    "- 코딩컨벤션 검사 모듈 - flake8, black"
   ]
  }
 ],
 "metadata": {
  "kernelspec": {
   "display_name": "Python 3",
   "language": "python",
   "name": "python3"
  },
  "language_info": {
   "codemirror_mode": {
    "name": "ipython",
    "version": 3
   },
   "file_extension": ".py",
   "mimetype": "text/x-python",
   "name": "python",
   "nbconvert_exporter": "python",
   "pygments_lexer": "ipython3",
   "version": "3.8.5"
  }
 },
 "nbformat": 4,
 "nbformat_minor": 5
}
