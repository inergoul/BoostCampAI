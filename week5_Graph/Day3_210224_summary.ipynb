{
 "cells": [
  {
   "cell_type": "markdown",
   "id": "weighted-electronics",
   "metadata": {},
   "source": [
    "#### Lecture 1. 그래프 구조 분석"
   ]
  },
  {
   "cell_type": "markdown",
   "id": "missing-burke",
   "metadata": {},
   "source": [
    "1. 군집의 의미\n",
    "- 군집(community) : 집합에 속하는 정점들 사이에만 많은 간선이 존재\n",
    "- 온라인 소셜 네트워크의 군집 : 사회적 무리(social circle), 부정행위, 파벌 표현\n",
    "- 뉴런간 연결 그래프의 군집 : 뇌의 기능적 구성 단위\n",
    "- 군집 탐색(community detection) : 그래프 내 정점들을 여러 군집으로 잘 나누는 문제\n",
    "\n",
    "2. 군집 구조의 통계적 유의성과 군집성\n",
    "- 배치 모형 : 각 정점들의 연결성(degree)을 보존한 상태에서 간선들을 무작위로 재배치하여 얻은 그래프\n",
    "    - 두 정점 사이에 간선이 존재할 확률은 두 정점의 연결성에 비례\n",
    "- 군집성(modularity) $\\frac{1}{2|E|}\\sum_{s \\in S}(그래프 군집 s 내부 간선의 수 -  배치 모형에서 군집 s내부 간선의 수의 기댓값)$\n",
    "    - 그래프 군집 내부 간선의 수가 많을수록 군집성이 높음 \n",
    "    - 군집성은 항상 -1 ~ +1 사이의 값 (0.3 ~0.7 일때 통계적으로 유의미한 군집)\n",
    "\n",
    "3. 군집탐색 알고리즘\n",
    "- Girvan-Newman 알고리즘 (Top-down)\n",
    "    - 간선의 매개 중심성 이용 : 간선이 정점 간의 최단 경로에 놓이는 횟수\n",
    "    - 매개 중심성이 높은 간선들이 서로 다른 군집을 연결하는 다리 역할\n",
    "    - 군집들을 연결하는 간선(매개중심성이 높은 간선)을 순차적으로 제거\n",
    "    - 간선의 제거 정도에 따라 다른 granularity 의 군집 구조가 나타남\n",
    "    - 군집성이 최대가 되는 지점을 복원하여 연결 요소를 하나의 군집으로 간주\n",
    "- Louvain 알고리즘 (Bottom-Up)\n",
    "    - 개별 정점으로 구성된 크기 1의 군집에서 점점 큰 군집 형성\n",
    "    - 군집성이 최대화되도록 각각의 정점을 새로운 군집으로 이동\n",
    "    - 각 군집을 하나의 정점으로 하는 그래프를 얻는 과정을 반복\n",
    "    - 한개의 정점이 남을 때까지 반복"
   ]
  },
  {
   "cell_type": "markdown",
   "id": "three-waterproof",
   "metadata": {},
   "source": [
    "4. 군집 간의 중첩\n",
    "- 위 알고리즘은 군집간의 중첩이 없다고 가정\n",
    "- 중첩 군집 모형\n",
    "    - 각 정점은 여러개의 군집에 속할 수 있음\n",
    "    - 같은 군집간 두 정점은 Pa 확률로 간선으로 직접 연결됨\n",
    "    - 두 정점이 여러 군집에 동시에 속할 경우 간선 연결확률은 독립적\n",
    "        - 군집 A, B에 동시에 속하면 간선 연결 확률 = 1 - (1-Pa)(1-Pb)\n",
    "    - 어느 군집에도 속하지 않는 두 정점은 낮은 확률 e로 직접 연결됨\n",
    "    - 중첩 군집 모형이 주어질 때 그래프의 확률\n",
    "        - $\\prod$ (각 간선의 두 정점이 직접 연결될 확률)$\\times \\prod$(연결되지 않은 정점쌍이 연결되지 않을 확률\n",
    "    - 그래프의 확률을 최대화 하는 중첩군집모형을 찾는 과정(MLE)\n",
    "    - 군집에 속하는 지가 이산적으로 결정되므로 경사하강법(연속된 parameter만 가능) 불가\n",
    "- 완화된 중접 군집 모형\n",
    "    - 각 정점이 군집에 속해있는 정도를 실수값으로 표현(오히려 현실적)\n",
    "    - 모형의 매개변수가 실수값을 가지므로 최적화 도구 사용 가능"
   ]
  },
  {
   "cell_type": "markdown",
   "id": "soviet-indicator",
   "metadata": {},
   "source": [
    "#### Lecture 2. 그래프와 추천 시스템"
   ]
  },
  {
   "cell_type": "markdown",
   "id": "vulnerable-gospel",
   "metadata": {},
   "source": [
    "1. 추천 시스템\n",
    "- 우리 주변에서의 상품 추천 : 아마존, 넷플릭스, 유튜브\n",
    "- 추천 시스템 : 사용자 각각이 구매할 만한/선호할만한 상품 추천\n",
    "    - 그래프 관점 : 미래의 간선을 예측 / 누락된 간선의 가중치를 추정\n",
    "\n",
    "2. 내용기반(content-based) 추천시스템\n",
    "- 각 사용자가 구매/만족했던 상품과 유사한 것을 추천\n",
    "- 선호 상품 프로필(원핫 인코딩 벡터) 수집\n",
    "- 사용자 프로필 구성 (가중 평균 벡터)\n",
    "- 사용자 프로필과 다른 상품들의 상품 프로필 매칭(코사인 유사도 계산)\n",
    "$\\frac{\\vec u \\cdot \\vec v}{\\lVert \\vec u \\rVert \\lVert \\vec v \\rVert}$\n",
    "- 코사인 유사도가 높을수록 선호했던 상품과 유사하며 추천해주게 됨\n",
    "- 다른 사용자의 기록이 필요치 않고 사용자별 맞춤 추천 가능\n",
    "- 새로운 상품 추천 가능, 추천 이유 제공 가능\n",
    "- 상품 부가 정보가 없는 경우, 신규 유저의 경우 사용 불가, 과적합 발생 가능성\n",
    "\n",
    "3. 사용자-사용자 협업 필터링\n",
    "- 추천 대상자와 유사한 취향의 사용자 찾기\n",
    "- 유사도는 상관 계수(correlation coefficient)를 통해 측정\n",
    "- 취향의 유사도를 가중치로 사용한 평점의 가중 평균을 통해 선호도 추정\n",
    "- 상품에 대한 부가 정보 불필요\n",
    "\n",
    "4. 추천 시스템 평가\n",
    "- 데이터를 훈련 데이터와 평가 데이터로 나누고 훈련데이터로 평가데이터 추정\n",
    "- 추정 데이터와 실제 데이터 비교하여 오차 측정 : 평균 제곱 오차(MSE)"
   ]
  },
  {
   "cell_type": "markdown",
   "id": "democratic-pension",
   "metadata": {},
   "source": [
    "#### peer session"
   ]
  },
  {
   "cell_type": "markdown",
   "id": "diverse-staff",
   "metadata": {},
   "source": [
    "- ML OPS의 유용함 (Neptune ai)\n",
    "- ML 취업에 요구되는 경험\n",
    "    - model serving (배포) 경험 ( flask web framework 등 )\n",
    "    - 모델을 직접 짜보는 경험\n",
    "    - 논문을 구현 해보는 경험\n"
   ]
  },
  {
   "cell_type": "markdown",
   "id": "appointed-humidity",
   "metadata": {},
   "source": []
  },
  {
   "cell_type": "markdown",
   "id": "colonial-belly",
   "metadata": {},
   "source": []
  },
  {
   "cell_type": "markdown",
   "id": "global-terry",
   "metadata": {},
   "source": []
  },
  {
   "cell_type": "markdown",
   "id": "brief-bradley",
   "metadata": {},
   "source": []
  },
  {
   "cell_type": "markdown",
   "id": "three-convertible",
   "metadata": {},
   "source": []
  },
  {
   "cell_type": "markdown",
   "id": "overhead-tongue",
   "metadata": {},
   "source": []
  },
  {
   "cell_type": "markdown",
   "id": "numerical-asset",
   "metadata": {},
   "source": []
  },
  {
   "cell_type": "code",
   "execution_count": null,
   "id": "attractive-welding",
   "metadata": {},
   "outputs": [],
   "source": []
  }
 ],
 "metadata": {
  "kernelspec": {
   "display_name": "Python 3",
   "language": "python",
   "name": "python3"
  },
  "language_info": {
   "codemirror_mode": {
    "name": "ipython",
    "version": 3
   },
   "file_extension": ".py",
   "mimetype": "text/x-python",
   "name": "python",
   "nbconvert_exporter": "python",
   "pygments_lexer": "ipython3",
   "version": "3.6.12"
  }
 },
 "nbformat": 4,
 "nbformat_minor": 5
}
