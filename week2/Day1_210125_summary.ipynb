{
 "cells": [
  {
   "cell_type": "markdown",
   "id": "refined-interface",
   "metadata": {},
   "source": [
    "#### Lecture 0. Numpy\n",
    "\n",
    "numpy\n",
    "- NUMerical PYthon\n",
    "- 파이썬의 고성능 과학 계산용 패키지\n",
    "- list 에 비해 빠르고 메모리 효율적\n",
    "- 반복문 없이 데이터 배열에 대한 처리 지원"
   ]
  },
  {
   "cell_type": "markdown",
   "id": "previous-dietary",
   "metadata": {},
   "source": [
    "ndarray\n",
    "- np.array 함수 사용하여 배열 생성\n",
    "- dynamic typing 이 지원되지 않고 하나의 타입만 저장 가능"
   ]
  },
  {
   "cell_type": "code",
   "execution_count": 1,
   "id": "sharing-andrew",
   "metadata": {},
   "outputs": [],
   "source": [
    "import numpy as np\n",
    "test_array = np.array(['1', \"4\", 5.1, 7], float) # shift+tab: 함수 정의docstring"
   ]
  },
  {
   "cell_type": "code",
   "execution_count": 2,
   "id": "polished-content",
   "metadata": {},
   "outputs": [
    {
     "data": {
      "text/plain": [
       "numpy.ndarray"
      ]
     },
     "execution_count": 2,
     "metadata": {},
     "output_type": "execute_result"
    }
   ],
   "source": [
    "type(test_array)"
   ]
  },
  {
   "cell_type": "code",
   "execution_count": 3,
   "id": "vocal-fifteen",
   "metadata": {},
   "outputs": [
    {
     "data": {
      "text/plain": [
       "numpy.float64"
      ]
     },
     "execution_count": 3,
     "metadata": {},
     "output_type": "execute_result"
    }
   ],
   "source": [
    "type(test_array[1]) # str을 입력값으로 줘도 float 형변환이 일어남"
   ]
  },
  {
   "cell_type": "code",
   "execution_count": 4,
   "id": "medieval-maximum",
   "metadata": {},
   "outputs": [
    {
     "data": {
      "text/plain": [
       "dtype('float64')"
      ]
     },
     "execution_count": 4,
     "metadata": {},
     "output_type": "execute_result"
    }
   ],
   "source": [
    "test_array.dtype # single element의 data type, 각 요소의 memory 크기 결정"
   ]
  },
  {
   "cell_type": "code",
   "execution_count": 5,
   "id": "arranged-inside",
   "metadata": {},
   "outputs": [
    {
     "data": {
      "text/plain": [
       "(4,)"
      ]
     },
     "execution_count": 5,
     "metadata": {},
     "output_type": "execute_result"
    }
   ],
   "source": [
    "test_array.shape"
   ]
  },
  {
   "cell_type": "code",
   "execution_count": 6,
   "id": "careful-sailing",
   "metadata": {},
   "outputs": [
    {
     "data": {
      "text/plain": [
       "True"
      ]
     },
     "execution_count": 6,
     "metadata": {},
     "output_type": "execute_result"
    }
   ],
   "source": [
    "a = [1,2,3,4,5]\n",
    "b = [5,4,3,2,1]\n",
    "a[0] is b[-1]"
   ]
  },
  {
   "cell_type": "code",
   "execution_count": 7,
   "id": "corresponding-italy",
   "metadata": {},
   "outputs": [
    {
     "data": {
      "text/plain": [
       "False"
      ]
     },
     "execution_count": 7,
     "metadata": {},
     "output_type": "execute_result"
    }
   ],
   "source": [
    "a = np.array(a)\n",
    "b = np.array(b)\n",
    "a[0] is b[-1]\n",
    "# list 처럼 정적인 메모리 영역을 참조하는 것이 아니기 때문에"
   ]
  },
  {
   "cell_type": "markdown",
   "id": "textile-value",
   "metadata": {},
   "source": [
    "array Rank에 따른 개념\n",
    "- rank 0 : scalar\n",
    "- rank 1 : vector\n",
    "- rank 2 : matrix\n",
    "- rank 3 : 3-tensor\n",
    "- rank n : n-tensor"
   ]
  },
  {
   "cell_type": "code",
   "execution_count": 8,
   "id": "completed-affiliation",
   "metadata": {},
   "outputs": [
    {
     "data": {
      "text/plain": [
       "6"
      ]
     },
     "execution_count": 8,
     "metadata": {},
     "output_type": "execute_result"
    }
   ],
   "source": [
    "np.array([[1,2,3], [4.5, \"5\", \"6\"]], dtype=np.int8).nbytes # int8 = 1byte"
   ]
  },
  {
   "cell_type": "code",
   "execution_count": 9,
   "id": "heated-identifier",
   "metadata": {},
   "outputs": [
    {
     "data": {
      "text/plain": [
       "48"
      ]
     },
     "execution_count": 9,
     "metadata": {},
     "output_type": "execute_result"
    }
   ],
   "source": [
    "np.array([[1,2,3], [4.5, \"5\", \"6\"]], dtype=np.float64).nbytes # 64 bit = 8byte"
   ]
  },
  {
   "cell_type": "code",
   "execution_count": 10,
   "id": "adjusted-adaptation",
   "metadata": {},
   "outputs": [
    {
     "data": {
      "text/plain": [
       "(3, 4)"
      ]
     },
     "execution_count": 10,
     "metadata": {},
     "output_type": "execute_result"
    }
   ],
   "source": [
    "mat = [[1,2,4,6], [1,2,4,6], [1,2,4,6]]\n",
    "np.array(mat, int).shape"
   ]
  },
  {
   "cell_type": "code",
   "execution_count": 11,
   "id": "fuzzy-newcastle",
   "metadata": {},
   "outputs": [
    {
     "data": {
      "text/plain": [
       "2"
      ]
     },
     "execution_count": 11,
     "metadata": {},
     "output_type": "execute_result"
    }
   ],
   "source": [
    "np.array(mat, int).ndim"
   ]
  },
  {
   "cell_type": "markdown",
   "id": "radio-graduate",
   "metadata": {},
   "source": [
    "handling shape\n",
    "- reshape : Array의 shape 크기 변경, 요소 갯수 동일, size 기반으로 갯수 선정(-1)"
   ]
  },
  {
   "cell_type": "code",
   "execution_count": 12,
   "id": "abstract-picnic",
   "metadata": {},
   "outputs": [
    {
     "data": {
      "text/plain": [
       "array([[1, 2],\n",
       "       [3, 4],\n",
       "       [5, 6],\n",
       "       [7, 8]])"
      ]
     },
     "execution_count": 12,
     "metadata": {},
     "output_type": "execute_result"
    }
   ],
   "source": [
    "test_mat = np.array([[1,2,3,4],[5,6,7,8]])\n",
    "test_mat.reshape(-1,2)"
   ]
  },
  {
   "cell_type": "code",
   "execution_count": 13,
   "id": "confused-sullivan",
   "metadata": {},
   "outputs": [
    {
     "data": {
      "text/plain": [
       "array([[1, 2, 3, 4],\n",
       "       [5, 6, 7, 8]])"
      ]
     },
     "execution_count": 13,
     "metadata": {},
     "output_type": "execute_result"
    }
   ],
   "source": [
    "test_mat"
   ]
  },
  {
   "cell_type": "markdown",
   "id": "periodic-sampling",
   "metadata": {},
   "source": [
    "flatten() :다차원 array를 1-dim으로 변환"
   ]
  },
  {
   "cell_type": "code",
   "execution_count": 14,
   "id": "dynamic-irish",
   "metadata": {},
   "outputs": [
    {
     "data": {
      "text/plain": [
       "array([1, 2, 3, 4, 5, 6, 7, 8])"
      ]
     },
     "execution_count": 14,
     "metadata": {},
     "output_type": "execute_result"
    }
   ],
   "source": [
    "test_mat.flatten()"
   ]
  },
  {
   "cell_type": "markdown",
   "id": "specified-detail",
   "metadata": {},
   "source": [
    "indexing : 다차원 배열에서 \\[0,0\\] 표기법 제공\n",
    "\n",
    "slicing : 행과 열부분을 나눠서 slicing 가능, 부분 집합 추출 시 유용"
   ]
  },
  {
   "cell_type": "code",
   "execution_count": 15,
   "id": "persistent-evans",
   "metadata": {},
   "outputs": [
    {
     "data": {
      "text/plain": [
       "3"
      ]
     },
     "execution_count": 15,
     "metadata": {},
     "output_type": "execute_result"
    }
   ],
   "source": [
    "test_mat[0,2]"
   ]
  },
  {
   "cell_type": "code",
   "execution_count": 16,
   "id": "sweet-amsterdam",
   "metadata": {},
   "outputs": [
    {
     "data": {
      "text/plain": [
       "array([7, 8])"
      ]
     },
     "execution_count": 16,
     "metadata": {},
     "output_type": "execute_result"
    }
   ],
   "source": [
    "test_mat[1,2:]"
   ]
  },
  {
   "cell_type": "code",
   "execution_count": 17,
   "id": "lonely-europe",
   "metadata": {},
   "outputs": [
    {
     "data": {
      "text/plain": [
       "array([ 9, 19, 29, 39, 49, 59, 69, 79, 89, 99])"
      ]
     },
     "execution_count": 17,
     "metadata": {},
     "output_type": "execute_result"
    }
   ],
   "source": [
    "a = np.arange(100).reshape(10, 10)\n",
    "a[:, -1]"
   ]
  },
  {
   "cell_type": "code",
   "execution_count": 18,
   "id": "after-cosmetic",
   "metadata": {},
   "outputs": [
    {
     "data": {
      "text/plain": [
       "array([0. , 0.4, 0.8, 1.2, 1.6, 2. , 2.4, 2.8, 3.2, 3.6, 4. , 4.4, 4.8])"
      ]
     },
     "execution_count": 18,
     "metadata": {},
     "output_type": "execute_result"
    }
   ],
   "source": [
    "np.arange(0, 5, 0.4)"
   ]
  },
  {
   "cell_type": "code",
   "execution_count": 19,
   "id": "aggregate-punishment",
   "metadata": {},
   "outputs": [
    {
     "data": {
      "text/plain": [
       "array([1, 1, 1, 1, 1, 1, 1, 1, 1, 1], dtype=int8)"
      ]
     },
     "execution_count": 19,
     "metadata": {},
     "output_type": "execute_result"
    }
   ],
   "source": [
    "np.ones(shape=(10,), dtype=np.int8)"
   ]
  },
  {
   "cell_type": "code",
   "execution_count": 20,
   "id": "irish-tutorial",
   "metadata": {},
   "outputs": [
    {
     "data": {
      "text/plain": [
       "array([[1., 1., 1.],\n",
       "       [1., 1., 1.]])"
      ]
     },
     "execution_count": 20,
     "metadata": {},
     "output_type": "execute_result"
    }
   ],
   "source": [
    "np.ones((2,3))"
   ]
  },
  {
   "cell_type": "code",
   "execution_count": 21,
   "id": "neural-rachel",
   "metadata": {},
   "outputs": [
    {
     "data": {
      "text/plain": [
       "array([0.000e+000, 0.000e+000, 0.000e+000, 0.000e+000, 0.000e+000,\n",
       "       6.285e-321, 0.000e+000, 0.000e+000])"
      ]
     },
     "execution_count": 21,
     "metadata": {},
     "output_type": "execute_result"
    }
   ],
   "source": [
    "np.empty(shape=(8,)) # shape 만 주어지고 비어있는 ndarray(memory 초기화 안됨)"
   ]
  },
  {
   "cell_type": "code",
   "execution_count": 22,
   "id": "quick-correlation",
   "metadata": {},
   "outputs": [
    {
     "data": {
      "text/plain": [
       "array([[1, 1, 1, 1],\n",
       "       [1, 1, 1, 1]])"
      ]
     },
     "execution_count": 22,
     "metadata": {},
     "output_type": "execute_result"
    }
   ],
   "source": [
    "np.ones_like(test_mat) # 기존 ndarray과 shape이 같은 array 반환"
   ]
  },
  {
   "cell_type": "code",
   "execution_count": 23,
   "id": "above-jacksonville",
   "metadata": {},
   "outputs": [
    {
     "data": {
      "text/plain": [
       "array([[1, 0, 0],\n",
       "       [0, 1, 0],\n",
       "       [0, 0, 1]], dtype=int8)"
      ]
     },
     "execution_count": 23,
     "metadata": {},
     "output_type": "execute_result"
    }
   ],
   "source": [
    "np.identity(n=3, dtype=np.int8) # 단위행렬"
   ]
  },
  {
   "cell_type": "code",
   "execution_count": 24,
   "id": "subject-reflection",
   "metadata": {},
   "outputs": [
    {
     "data": {
      "text/plain": [
       "array([[0., 1., 0., 0., 0.],\n",
       "       [0., 0., 1., 0., 0.],\n",
       "       [0., 0., 0., 1., 0.]])"
      ]
     },
     "execution_count": 24,
     "metadata": {},
     "output_type": "execute_result"
    }
   ],
   "source": [
    "np.eye(3,5, k=1)"
   ]
  },
  {
   "cell_type": "code",
   "execution_count": 25,
   "id": "accomplished-being",
   "metadata": {},
   "outputs": [
    {
     "name": "stdout",
     "output_type": "stream",
     "text": [
      "[0 4 8]\n"
     ]
    },
    {
     "data": {
      "text/plain": [
       "array([1, 5])"
      ]
     },
     "execution_count": 25,
     "metadata": {},
     "output_type": "execute_result"
    }
   ],
   "source": [
    "mat = np.arange(9).reshape(-1,3)\n",
    "print(np.diag(mat))\n",
    "np.diag(mat, k=1)"
   ]
  },
  {
   "cell_type": "code",
   "execution_count": 26,
   "id": "ahead-vertical",
   "metadata": {},
   "outputs": [
    {
     "data": {
      "text/plain": [
       "array([[0.05794825, 0.96590499, 0.99763789, 0.8860032 , 0.49215041],\n",
       "       [0.20967828, 0.05762028, 0.15953051, 0.76727922, 0.24279658]])"
      ]
     },
     "execution_count": 26,
     "metadata": {},
     "output_type": "execute_result"
    }
   ],
   "source": [
    "np.random.uniform(0,1,10).reshape(2,5) # 모수, 크기가 주어질 때 균등분포"
   ]
  },
  {
   "cell_type": "code",
   "execution_count": 27,
   "id": "cooked-turkey",
   "metadata": {},
   "outputs": [
    {
     "data": {
      "text/plain": [
       "array([[-1.80706918,  1.48176909,  2.76340769, -0.10510189, -0.24461899],\n",
       "       [ 0.3940266 , -0.23400038,  0.42249601, -1.21633297, -0.24935891]])"
      ]
     },
     "execution_count": 27,
     "metadata": {},
     "output_type": "execute_result"
    }
   ],
   "source": [
    "np.random.normal(0,1,10).reshape(2,5) # 모수, 크기가 주어질 때 정규분포"
   ]
  },
  {
   "cell_type": "markdown",
   "id": "flying-greeting",
   "metadata": {},
   "source": [
    "operation in array"
   ]
  },
  {
   "cell_type": "code",
   "execution_count": 28,
   "id": "temporal-wings",
   "metadata": {},
   "outputs": [
    {
     "data": {
      "text/plain": [
       "78"
      ]
     },
     "execution_count": 28,
     "metadata": {},
     "output_type": "execute_result"
    }
   ],
   "source": [
    "test_array = np.arange(1,13).reshape(3,4)\n",
    "test_array.sum()"
   ]
  },
  {
   "cell_type": "markdown",
   "id": "incredible-recording",
   "metadata": {},
   "source": [
    "axis - 모든 operation function을 실행할 때 기준이 되는 dimension 축"
   ]
  },
  {
   "cell_type": "code",
   "execution_count": 29,
   "id": "greater-flour",
   "metadata": {},
   "outputs": [
    {
     "data": {
      "text/plain": [
       "array([10, 26, 42])"
      ]
     },
     "execution_count": 29,
     "metadata": {},
     "output_type": "execute_result"
    }
   ],
   "source": [
    "test_array.sum(axis=1)"
   ]
  },
  {
   "cell_type": "code",
   "execution_count": 30,
   "id": "blessed-entrepreneur",
   "metadata": {},
   "outputs": [
    {
     "data": {
      "text/plain": [
       "array([15, 18, 21, 24])"
      ]
     },
     "execution_count": 30,
     "metadata": {},
     "output_type": "execute_result"
    }
   ],
   "source": [
    "test_array.sum(axis=0)"
   ]
  },
  {
   "cell_type": "code",
   "execution_count": 31,
   "id": "acceptable-mitchell",
   "metadata": {},
   "outputs": [
    {
     "data": {
      "text/plain": [
       "array([5., 6., 7., 8.])"
      ]
     },
     "execution_count": 31,
     "metadata": {},
     "output_type": "execute_result"
    }
   ],
   "source": [
    "test_array.mean(axis=0)"
   ]
  },
  {
   "cell_type": "code",
   "execution_count": 32,
   "id": "junior-breast",
   "metadata": {},
   "outputs": [
    {
     "data": {
      "text/plain": [
       "array([3.26598632, 3.26598632, 3.26598632, 3.26598632])"
      ]
     },
     "execution_count": 32,
     "metadata": {},
     "output_type": "execute_result"
    }
   ],
   "source": [
    "test_array.std(axis=0)"
   ]
  },
  {
   "cell_type": "code",
   "execution_count": 33,
   "id": "located-documentary",
   "metadata": {},
   "outputs": [
    {
     "data": {
      "text/plain": [
       "array([[1, 2],\n",
       "       [2, 3],\n",
       "       [3, 4]])"
      ]
     },
     "execution_count": 33,
     "metadata": {},
     "output_type": "execute_result"
    }
   ],
   "source": [
    "a = np.array([[1],[2],[3]])\n",
    "b = np.array([[2],[3],[4]])\n",
    "np.hstack((a,b))"
   ]
  },
  {
   "cell_type": "code",
   "execution_count": 34,
   "id": "micro-daniel",
   "metadata": {},
   "outputs": [
    {
     "data": {
      "text/plain": [
       "array([[1],\n",
       "       [2],\n",
       "       [3],\n",
       "       [2],\n",
       "       [3],\n",
       "       [4]])"
      ]
     },
     "execution_count": 34,
     "metadata": {},
     "output_type": "execute_result"
    }
   ],
   "source": [
    "np.vstack((a,b))"
   ]
  },
  {
   "cell_type": "code",
   "execution_count": 35,
   "id": "based-yukon",
   "metadata": {},
   "outputs": [
    {
     "data": {
      "text/plain": [
       "array([[1, 2],\n",
       "       [2, 3],\n",
       "       [3, 4]])"
      ]
     },
     "execution_count": 35,
     "metadata": {},
     "output_type": "execute_result"
    }
   ],
   "source": [
    "np.concatenate((a,b), axis=1)"
   ]
  },
  {
   "cell_type": "markdown",
   "id": "separate-steal",
   "metadata": {},
   "source": [
    "Element-wise operations : array간 shape이 같을 때 일어나는 연산"
   ]
  },
  {
   "cell_type": "code",
   "execution_count": 36,
   "id": "friendly-oklahoma",
   "metadata": {},
   "outputs": [
    {
     "data": {
      "text/plain": [
       "array([[  1,   4,   9,  16],\n",
       "       [ 25,  36,  49,  64],\n",
       "       [ 81, 100, 121, 144]])"
      ]
     },
     "execution_count": 36,
     "metadata": {},
     "output_type": "execute_result"
    }
   ],
   "source": [
    "test_array = np.arange(1,13).reshape(3,4)\n",
    "test_array * test_array"
   ]
  },
  {
   "cell_type": "code",
   "execution_count": 37,
   "id": "brave-conditions",
   "metadata": {},
   "outputs": [
    {
     "data": {
      "text/plain": [
       "array([[1, 2, 3],\n",
       "       [4, 5, 6]])"
      ]
     },
     "execution_count": 37,
     "metadata": {},
     "output_type": "execute_result"
    }
   ],
   "source": [
    "test_a = np.arange(1,7).reshape(2,3)\n",
    "test_a"
   ]
  },
  {
   "cell_type": "code",
   "execution_count": 38,
   "id": "greatest-stream",
   "metadata": {},
   "outputs": [
    {
     "data": {
      "text/plain": [
       "array([[1, 4],\n",
       "       [2, 5],\n",
       "       [3, 6]])"
      ]
     },
     "execution_count": 38,
     "metadata": {},
     "output_type": "execute_result"
    }
   ],
   "source": [
    "test_a.transpose()"
   ]
  },
  {
   "cell_type": "code",
   "execution_count": 39,
   "id": "liquid-doctor",
   "metadata": {},
   "outputs": [
    {
     "data": {
      "text/plain": [
       "array([[1, 4],\n",
       "       [2, 5],\n",
       "       [3, 6]])"
      ]
     },
     "execution_count": 39,
     "metadata": {},
     "output_type": "execute_result"
    }
   ],
   "source": [
    "test_a.T"
   ]
  },
  {
   "cell_type": "code",
   "execution_count": 40,
   "id": "wired-difficulty",
   "metadata": {},
   "outputs": [
    {
     "data": {
      "text/plain": [
       "array([[14, 32],\n",
       "       [32, 77]])"
      ]
     },
     "execution_count": 40,
     "metadata": {},
     "output_type": "execute_result"
    }
   ],
   "source": [
    "test_a.dot(test_a.T)"
   ]
  },
  {
   "cell_type": "markdown",
   "id": "executive-trout",
   "metadata": {},
   "source": [
    "broadcasting - shape이 다른 배열간 연산 지원"
   ]
  },
  {
   "cell_type": "code",
   "execution_count": 41,
   "id": "transsexual-better",
   "metadata": {},
   "outputs": [
    {
     "data": {
      "text/plain": [
       "array([[4, 5, 6],\n",
       "       [7, 8, 9]])"
      ]
     },
     "execution_count": 41,
     "metadata": {},
     "output_type": "execute_result"
    }
   ],
   "source": [
    "test_a + 3"
   ]
  },
  {
   "cell_type": "code",
   "execution_count": 42,
   "id": "external-munich",
   "metadata": {},
   "outputs": [
    {
     "data": {
      "text/plain": [
       "array([[  2,  12, 103],\n",
       "       [  5,  15, 106]])"
      ]
     },
     "execution_count": 42,
     "metadata": {},
     "output_type": "execute_result"
    }
   ],
   "source": [
    "test_a + [1,10,100]"
   ]
  },
  {
   "cell_type": "markdown",
   "id": "boring-military",
   "metadata": {},
   "source": [
    "Numpy performance\n",
    "- 속도 : for loop < list comprehension < numpy\n",
    "- Numpy가 c로 구현되어 성능을 확보하는 대신, dynamic typing 포기"
   ]
  },
  {
   "cell_type": "code",
   "execution_count": 43,
   "id": "enclosed-tourism",
   "metadata": {},
   "outputs": [
    {
     "name": "stdout",
     "output_type": "stream",
     "text": [
      "6.51 ms ± 1.3 ms per loop (mean ± std. dev. of 7 runs, 100 loops each)\n"
     ]
    }
   ],
   "source": [
    "def scalar_vector_product(scalar, vector):\n",
    "    result = []\n",
    "    for value in vector:\n",
    "        result.append(scalar*value)\n",
    "    return result\n",
    "\n",
    "iter_max = 10000\n",
    "vector = list(range(iter_max))\n",
    "scalar = 5\n",
    "%timeit scalar_vector_product(scalar, vector) # for loop"
   ]
  },
  {
   "cell_type": "code",
   "execution_count": 44,
   "id": "advanced-postcard",
   "metadata": {},
   "outputs": [
    {
     "name": "stdout",
     "output_type": "stream",
     "text": [
      "4.36 ms ± 1.19 ms per loop (mean ± std. dev. of 7 runs, 100 loops each)\n"
     ]
    }
   ],
   "source": [
    "%timeit [scalar*value for value in range(iter_max)] # list comprehension"
   ]
  },
  {
   "cell_type": "code",
   "execution_count": 45,
   "id": "accessory-spanking",
   "metadata": {},
   "outputs": [
    {
     "name": "stdout",
     "output_type": "stream",
     "text": [
      "49.9 µs ± 8.77 µs per loop (mean ± std. dev. of 7 runs, 10000 loops each)\n"
     ]
    }
   ],
   "source": [
    "%timeit np.arange(iter_max) * scalar # numpy"
   ]
  },
  {
   "cell_type": "markdown",
   "id": "sapphire-combining",
   "metadata": {},
   "source": [
    "comparision"
   ]
  },
  {
   "cell_type": "code",
   "execution_count": 46,
   "id": "hearing-class",
   "metadata": {},
   "outputs": [
    {
     "data": {
      "text/plain": [
       "array([ True,  True,  True,  True, False, False, False, False, False,\n",
       "       False])"
      ]
     },
     "execution_count": 46,
     "metadata": {},
     "output_type": "execute_result"
    }
   ],
   "source": [
    "a = np.arange(10)\n",
    "a < 4 # broadcasting 적용"
   ]
  },
  {
   "cell_type": "code",
   "execution_count": 47,
   "id": "champion-karaoke",
   "metadata": {},
   "outputs": [
    {
     "data": {
      "text/plain": [
       "(True, False)"
      ]
     },
     "execution_count": 47,
     "metadata": {},
     "output_type": "execute_result"
    }
   ],
   "source": [
    "np.any(a>5), np.any(a<0)"
   ]
  },
  {
   "cell_type": "code",
   "execution_count": 48,
   "id": "recovered-capture",
   "metadata": {},
   "outputs": [
    {
     "data": {
      "text/plain": [
       "(True, False)"
      ]
     },
     "execution_count": 48,
     "metadata": {},
     "output_type": "execute_result"
    }
   ],
   "source": [
    "np.all(a<10), np.all(a<8)"
   ]
  },
  {
   "cell_type": "code",
   "execution_count": 49,
   "id": "grave-buying",
   "metadata": {},
   "outputs": [
    {
     "data": {
      "text/plain": [
       "array([False, False,  True,  True,  True,  True, False, False, False,\n",
       "       False])"
      ]
     },
     "execution_count": 49,
     "metadata": {},
     "output_type": "execute_result"
    }
   ],
   "source": [
    "np.logical_and(a>1, a<6)"
   ]
  },
  {
   "cell_type": "code",
   "execution_count": 50,
   "id": "conditional-absorption",
   "metadata": {},
   "outputs": [
    {
     "data": {
      "text/plain": [
       "array([False,  True, False])"
      ]
     },
     "execution_count": 50,
     "metadata": {},
     "output_type": "execute_result"
    }
   ],
   "source": [
    "b = np.array([True, False, True], bool)\n",
    "np.logical_not(b)"
   ]
  },
  {
   "cell_type": "code",
   "execution_count": 52,
   "id": "buried-school",
   "metadata": {},
   "outputs": [
    {
     "data": {
      "text/plain": [
       "array([ True,  True,  True,  True, False, False, False, False,  True,\n",
       "        True])"
      ]
     },
     "execution_count": 52,
     "metadata": {},
     "output_type": "execute_result"
    }
   ],
   "source": [
    "np.logical_or(a>7, a<4)"
   ]
  },
  {
   "cell_type": "code",
   "execution_count": 55,
   "id": "confused-direction",
   "metadata": {},
   "outputs": [
    {
     "data": {
      "text/plain": [
       "(array([0, 1, 2], dtype=int64),)"
      ]
     },
     "execution_count": 55,
     "metadata": {},
     "output_type": "execute_result"
    }
   ],
   "source": [
    "np.where(a<3)"
   ]
  },
  {
   "cell_type": "code",
   "execution_count": 56,
   "id": "chief-professional",
   "metadata": {},
   "outputs": [
    {
     "data": {
      "text/plain": [
       "array([6, 7, 8, 9], dtype=int64)"
      ]
     },
     "execution_count": 56,
     "metadata": {},
     "output_type": "execute_result"
    }
   ],
   "source": [
    "np.where(a>5)[0]"
   ]
  },
  {
   "cell_type": "code",
   "execution_count": 58,
   "id": "bibliographic-confirmation",
   "metadata": {},
   "outputs": [
    {
     "data": {
      "text/plain": [
       "array([1, 1, 1, 1, 1, 1, 0, 0, 0, 0])"
      ]
     },
     "execution_count": 58,
     "metadata": {},
     "output_type": "execute_result"
    }
   ],
   "source": [
    "np.where(a>5, 0, 1) # where(condition, TRUE, FALSE)"
   ]
  },
  {
   "cell_type": "code",
   "execution_count": 59,
   "id": "armed-satisfaction",
   "metadata": {},
   "outputs": [
    {
     "data": {
      "text/plain": [
       "array([False,  True, False])"
      ]
     },
     "execution_count": 59,
     "metadata": {},
     "output_type": "execute_result"
    }
   ],
   "source": [
    "a = np.array([1, np.NaN, np.Inf], float)\n",
    "np.isnan(a)"
   ]
  },
  {
   "cell_type": "code",
   "execution_count": 60,
   "id": "recovered-nursery",
   "metadata": {},
   "outputs": [
    {
     "data": {
      "text/plain": [
       "array([ True, False, False])"
      ]
     },
     "execution_count": 60,
     "metadata": {},
     "output_type": "execute_result"
    }
   ],
   "source": [
    "np.isfinite(a)"
   ]
  },
  {
   "cell_type": "code",
   "execution_count": 65,
   "id": "prime-harassment",
   "metadata": {},
   "outputs": [
    {
     "data": {
      "text/plain": [
       "4"
      ]
     },
     "execution_count": 65,
     "metadata": {},
     "output_type": "execute_result"
    }
   ],
   "source": [
    "np.argmax(a) # 최대값의 인덱스"
   ]
  },
  {
   "cell_type": "code",
   "execution_count": 64,
   "id": "blessed-right",
   "metadata": {},
   "outputs": [
    {
     "data": {
      "text/plain": [
       "0"
      ]
     },
     "execution_count": 64,
     "metadata": {},
     "output_type": "execute_result"
    }
   ],
   "source": [
    "np.argmin(a) # 최소값의 인덱스"
   ]
  },
  {
   "cell_type": "code",
   "execution_count": 63,
   "id": "expired-haiti",
   "metadata": {},
   "outputs": [
    {
     "data": {
      "text/plain": [
       "array([0, 1, 6, 3, 2, 5, 4], dtype=int64)"
      ]
     },
     "execution_count": 63,
     "metadata": {},
     "output_type": "execute_result"
    }
   ],
   "source": [
    "a = np.array([1,2,5,4,14,8,2])\n",
    "a.argsort() # 작은 값의 인덱스 순으로 반환"
   ]
  },
  {
   "cell_type": "code",
   "execution_count": 66,
   "id": "fresh-porcelain",
   "metadata": {},
   "outputs": [
    {
     "data": {
      "text/plain": [
       "array([ 5,  4, 14,  8])"
      ]
     },
     "execution_count": 66,
     "metadata": {},
     "output_type": "execute_result"
    }
   ],
   "source": [
    "a[a>3] # boolean index : True 인 인덱스의 원소 반환 (shape 이 같아야 함)"
   ]
  },
  {
   "cell_type": "code",
   "execution_count": 68,
   "id": "prime-medline",
   "metadata": {},
   "outputs": [
    {
     "data": {
      "text/plain": [
       "array([4., 2., 2., 8., 4., 6.])"
      ]
     },
     "execution_count": 68,
     "metadata": {},
     "output_type": "execute_result"
    }
   ],
   "source": [
    "a = np.array([2,4,6,8], float)\n",
    "b = np.array([1,0,0,3,1,2], int) # 반드시 integer 선언\n",
    "a[b] # fancy index : array를 index value로 사용(array 값이 인덱스 범위 내 있어야함)"
   ]
  },
  {
   "cell_type": "code",
   "execution_count": 69,
   "id": "returning-lease",
   "metadata": {},
   "outputs": [
    {
     "data": {
      "text/plain": [
       "array([4., 2., 2., 8., 4., 6.])"
      ]
     },
     "execution_count": 69,
     "metadata": {},
     "output_type": "execute_result"
    }
   ],
   "source": [
    "a.take(b)"
   ]
  },
  {
   "cell_type": "markdown",
   "id": "acute-seeker",
   "metadata": {},
   "source": [
    "numpy data persistance (i/o)\n"
   ]
  },
  {
   "cell_type": "markdown",
   "id": "worthy-civilian",
   "metadata": {},
   "source": [
    "#### Lecture 1. Vector"
   ]
  },
  {
   "cell_type": "markdown",
   "id": "dental-shoot",
   "metadata": {},
   "source": [
    "벡터 : 숫자를 원소로 가지는 list or array\n",
    "- 수학적으로는 공간상의 한 점\n",
    "- 원점으로부터 상대적 위치 표현\n",
    "- 스칼라곱 : 방향은 그대로거나 반대, 크기만 변함\n",
    "- 같은 shape 이면, 합,차, 성분곱 계산 가능\n",
    "- 합 차 : 벡터의 상대적 위치이동\n",
    "- 노름(norm) : 원점으로부터의 거리(임의의 차원 d에서 성립)\n",
    "- ML 방법론에서 어떤 norm을 사용할 지 정할때 기하학적 성질에 의존\n",
    "- 제 2 코사인 법칙에 의해 두 벡터 사이각 계산\n",
    "- 내적(inner product) : 정사영 된 벡터의 길이"
   ]
  },
  {
   "cell_type": "markdown",
   "id": "optical-jordan",
   "metadata": {},
   "source": [
    "#### Lecture 2. Matrix"
   ]
  },
  {
   "cell_type": "markdown",
   "id": "digital-walnut",
   "metadata": {},
   "source": [
    "행렬 : (행)벡터를 원소로 가지는 2차원 배열\n",
    "- n 행(row) m 열(column) 행렬 >>> n x m 행렬 (x<sub>ij</sub>)\n",
    "- 전치행렬(transpose)  X <sup>T </sup> = (x<sub>ji</sub>)\n",
    "- 여러 개의 벡터를 포함하므로 여러 점들을 나타냄\n",
    "- 행렬의 덧셈, 뺄셈, 성분곱은 같은 모양을 가질 때 같은 인덱스 원소끼리\n",
    "- 행렬 곱 : (i번째 행벡터).(j번째 열벡터) 내적을 성분으로 가지는 행렬 계산\n",
    "- np.inner : (i번째 행벡터).(j번째 행벡터) 내적 XY<sup>T</sup>\n",
    "- 행렬은 벡터 공간에서 사용되는 연산자, 다른 차원의 공간으로 보낼 수 있음\n",
    "- 모든 선형변환은 행렬곱으로 계산할 수 있음\n",
    "- 역행렬 A<sup>-1</sup> : AA<sup>-1</sup> = A<sup>-1</sup>A = I(항등행렬)\n",
    "- 역행렬 조건 : 행과 열 숫자 같음, 행렬식 != 0, 미충족시 유사역행렬 A<sup>+</sup>\n",
    "    - 모든 열벡터가 선형독립(n>=m)\n",
    "        - A<sup>+</sup> = (A<sup>T</sup>A)<sup>-1</sup>A<sup>T</sup> \n",
    "        - A<sup>+</sup>A = I(좌측 역행렬)\n",
    "        - 선형회귀 : L2-norm 최소화\n",
    "    - 모든 행벡터가 선형독립(m>=n)\n",
    "        - A<sup>+</sup> = A<sup>T</sup>(AA<sup>T</sup>)<sup>-1</sup>\n",
    "        - AA<sup>+</sup> = I(우측 역행렬)\n",
    "        - 연립방정식의 하나의 해 찾기"
   ]
  },
  {
   "cell_type": "code",
   "execution_count": 71,
   "id": "affiliated-assist",
   "metadata": {},
   "outputs": [
    {
     "data": {
      "text/plain": [
       "array([[ 0.13793103,  0.10344828, -0.06896552],\n",
       "       [-0.24137931,  0.06896552,  0.12068966],\n",
       "       [ 0.12643678,  0.01149425,  0.10344828]])"
      ]
     },
     "execution_count": 71,
     "metadata": {},
     "output_type": "execute_result"
    }
   ],
   "source": [
    "x = np.array([[1,-2,3], [7,4,0], [-2, 2,6]])\n",
    "np.linalg.inv(x)"
   ]
  },
  {
   "cell_type": "code",
   "execution_count": 72,
   "id": "stock-oklahoma",
   "metadata": {},
   "outputs": [
    {
     "data": {
      "text/plain": [
       "array([[ 5.00000000e-01,  1.11022302e-16, -5.00000000e-01],\n",
       "       [ 8.33333333e-01, -3.33333333e-01, -1.66666667e-01]])"
      ]
     },
     "execution_count": 72,
     "metadata": {},
     "output_type": "execute_result"
    }
   ],
   "source": [
    "y = np.array([[0,1],[1,-1],[-2,1]])\n",
    "np.linalg.pinv(y)"
   ]
  }
 ],
 "metadata": {
  "kernelspec": {
   "display_name": "Python 3",
   "language": "python",
   "name": "python3"
  },
  "language_info": {
   "codemirror_mode": {
    "name": "ipython",
    "version": 3
   },
   "file_extension": ".py",
   "mimetype": "text/x-python",
   "name": "python",
   "nbconvert_exporter": "python",
   "pygments_lexer": "ipython3",
   "version": "3.9.1"
  }
 },
 "nbformat": 4,
 "nbformat_minor": 5
}
